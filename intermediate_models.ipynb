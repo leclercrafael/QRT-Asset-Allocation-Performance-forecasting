{
 "cells": [
  {
   "cell_type": "code",
   "execution_count": 29,
   "id": "8ad76756",
   "metadata": {},
   "outputs": [],
   "source": [
    "import pandas as pd\n",
    "import numpy as np\n",
    "import matplotlib.pyplot as plt\n",
    "from sklearn.model_selection import KFold\n",
    "from sklearn.linear_model import RidgeClassifier,Ridge\n",
    "from sklearn.ensemble import RandomForestClassifier,RandomForestRegressor\n",
    "import lightgbm as lgb\n",
    "from sklearn.metrics import accuracy_score\n",
    "from sklearn.preprocessing import StandardScaler\n",
    "import xgboost as xgb\n",
    "from catboost import CatBoostClassifier,CatBoostRegressor\n",
    "from category_encoders import TargetEncoder\n",
    "from sklearn.linear_model import LinearRegression"
   ]
  },
  {
   "cell_type": "code",
   "execution_count": 30,
   "id": "9918f3cf",
   "metadata": {},
   "outputs": [],
   "source": [
    "X = pd.read_csv('data/X_train.csv',index_col='ROW_ID')\n",
    "X_test_final = pd.read_csv('data/X_test.csv',index_col='ROW_ID')\n",
    "y = pd.read_csv('data/y_train.csv',index_col='ROW_ID')\n",
    "y_bin = (y > 0).astype(int) #binariser l outcome pour faire de la classification et pas regression\n",
    "sample_submission = pd.read_csv('data/sample_submission.csv',index_col='ROW_ID')"
   ]
  },
  {
   "cell_type": "code",
   "execution_count": 31,
   "id": "5f902660",
   "metadata": {},
   "outputs": [],
   "source": [
    "\n",
    "RET_features = [f'RET_{i}' for i in range(1, 20)]\n",
    "SIGNED_VOLUME_features = [f'SIGNED_VOLUME_{i}' for i in range(1, 20)]\n",
    "TURNOVER_features = ['AVG_DAILY_TURNOVER']\n",
    "\n",
    "for i in range(2, 21):\n",
    "    X[f'AVERAGE_PERF_{i}'] = X[RET_features[:i]].mean(1)\n",
    "    X[f'ALLOCATIONS_AVERAGE_PERF_{i}'] = X.groupby('TS')[f'AVERAGE_PERF_{i}'].transform('mean')\n",
    "    X_test_final[f'AVERAGE_PERF_{i}'] = X_test_final[RET_features[:i]].mean(1)\n",
    "    X_test_final[f'ALLOCATIONS_AVERAGE_PERF_{i}'] = X_test_final.groupby('TS')[f'AVERAGE_PERF_{i}'].transform('mean')\n"
   ]
  },
  {
   "cell_type": "code",
   "execution_count": 32,
   "id": "7d533ed9",
   "metadata": {},
   "outputs": [
    {
     "name": "stderr",
     "output_type": "stream",
     "text": [
      "<>:15: SyntaxWarning: invalid escape sequence '\\d'\n",
      "<>:16: SyntaxWarning: invalid escape sequence '\\d'\n",
      "<>:15: SyntaxWarning: invalid escape sequence '\\d'\n",
      "<>:16: SyntaxWarning: invalid escape sequence '\\d'\n",
      "/var/folders/1w/qdnlgvv57jsctw3wf6pt0wlr0000gn/T/ipykernel_51280/2253576490.py:15: SyntaxWarning: invalid escape sequence '\\d'\n",
      "  X[\"TS_num\"] = X[\"TS\"].str.extract(\"(\\d+)\").astype(int)\n",
      "/var/folders/1w/qdnlgvv57jsctw3wf6pt0wlr0000gn/T/ipykernel_51280/2253576490.py:16: SyntaxWarning: invalid escape sequence '\\d'\n",
      "  X_test_final[\"TS_num\"] = X_test_final[\"TS\"].str.extract(\"(\\d+)\").astype(int)\n"
     ]
    }
   ],
   "source": [
    "X[\"RET_VOLATILITY_20\"] = X[RET_features].std(axis=1)\n",
    "X_test_final[\"RET_VOLATILITY_20\"] = X_test_final[RET_features].std(axis=1)\n",
    "\n",
    "X[\"RET_MOMENTUM\"] = X[\"RET_1\"] - X[RET_features].mean(axis=1)\n",
    "X_test_final[\"RET_MOMENTUM\"] = X_test_final[\"RET_1\"] - X_test_final[RET_features].mean(axis=1)\n",
    "\n",
    "# Ratio perf/vol (Sharpe-like)\n",
    "X[\"RET_SHARPE\"] = X[\"RET_MOMENTUM\"] / (X[\"RET_VOLATILITY_20\"] + 1e-6)\n",
    "X_test_final[\"RET_SHARPE\"] = X_test_final[\"RET_MOMENTUM\"] / (X_test_final[\"RET_VOLATILITY_20\"] + 1e-6)\n",
    "\n",
    "# Liquidity volatility\n",
    "X[\"SIGNED_VOLUME_VOL\"] = X[SIGNED_VOLUME_features].std(axis=1)\n",
    "X_test_final[\"SIGNED_VOLUME_VOL\"] = X_test_final[SIGNED_VOLUME_features].std(axis=1)\n",
    "\n",
    "X[\"TS_num\"] = X[\"TS\"].str.extract(\"(\\d+)\").astype(int)\n",
    "X_test_final[\"TS_num\"] = X_test_final[\"TS\"].str.extract(\"(\\d+)\").astype(int)\n",
    "\n",
    "X[\"RET_TREND_5\"] = X[\"RET_20\"] - X[\"RET_15\"]\n",
    "X[\"VOL_TREND_5\"] = X[\"SIGNED_VOLUME_20\"] - X[\"SIGNED_VOLUME_15\"]\n",
    "X_test_final[\"RET_TREND_5\"] = X_test_final[\"RET_20\"] - X_test_final[\"RET_15\"]\n",
    "X_test_final[\"VOL_TREND_5\"] = X_test_final[\"SIGNED_VOLUME_20\"] - X_test_final[\"SIGNED_VOLUME_15\"]\n",
    "\n",
    "# Décalage du dernier retour\n",
    "X[\"RET_LAG1\"] = X[\"RET_1\"]\n",
    "X[\"RET_DIFF1\"] = X[\"RET_1\"] - X[\"RET_2\"]\n",
    "X_test_final[\"RET_LAG1\"] = X_test_final[\"RET_1\"]\n",
    "X_test_final[\"RET_DIFF1\"] = X_test_final[\"RET_1\"] - X_test_final[\"RET_2\"]\n",
    "# Skewness et kurtosis sur les 20 derniers jours\n",
    "X[\"RET_SKEW_20\"] = X[RET_features].skew(axis=1)\n",
    "X[\"RET_KURT_20\"] = X[RET_features].kurt(axis=1)\n",
    "X_test_final[\"RET_SKEW_20\"] = X_test_final[RET_features].skew(axis=1)\n",
    "X_test_final[\"RET_KURT_20\"] = X_test_final[RET_features].kurt(axis=1)\n",
    "# Ratio volume/performance (liquidité relative)\n",
    "X[\"VOL_PERF_RATIO\"] = X[SIGNED_VOLUME_features].mean(axis=1) / (X[RET_features].std(axis=1) + 1e-6)\n",
    "\n",
    "# Moyenne pondérée des performances récentes (momentum lissé)\n",
    "weights = np.linspace(1, 2, 19)\n",
    "X[\"RET_WEIGHTED_MOMENTUM\"] = (X[RET_features].values * weights).sum(axis=1) / weights.sum()\n",
    "\n",
    "X_test_final[\"VOL_PERF_RATIO\"] = X_test_final[SIGNED_VOLUME_features].mean(axis=1) / (X_test_final[RET_features].std(axis=1) + 1e-6)\n",
    "\n",
    "# Moyenne pondérée des performances récentes (momentum lissé)\n",
    "weights = np.linspace(1, 2, 19)\n",
    "X_test_final[\"RET_WEIGHTED_MOMENTUM\"] = (X_test_final[RET_features].values * weights).sum(axis=1) / weights.sum()\n",
    "\n",
    "\n"
   ]
  },
  {
   "cell_type": "code",
   "execution_count": 33,
   "id": "068c4bea",
   "metadata": {},
   "outputs": [],
   "source": [
    "features = (\n",
    "    RET_features\n",
    "    + SIGNED_VOLUME_features\n",
    "    + TURNOVER_features\n",
    "    + [f'AVERAGE_PERF_{i}' for i in range(2, 21)]\n",
    "    + [f'ALLOCATIONS_AVERAGE_PERF_{i}' for i in range(2, 21)]\n",
    "    + [\"RET_VOLATILITY_20\", \"RET_MOMENTUM\", \"RET_SHARPE\", \"SIGNED_VOLUME_VOL\",\"VOL_TREND_5\",\"RET_TREND_5\"]\n",
    "    + [\"alloc_enc\"]\n",
    "    +[\"VOL_PERF_RATIO\",\"RET_KURT_20\",\"RET_SKEW_20\",\"RET_DIFF1\",\"RET_LAG1\"]\n",
    ")"
   ]
  },
  {
   "cell_type": "code",
   "execution_count": 34,
   "id": "ba76cd67",
   "metadata": {},
   "outputs": [],
   "source": [
    "alloc_col = \"ALLOCATION\"\n",
    "ret_cols = [f'RET_{i}' for i in range(1, 21)]\n",
    "def compute_time_features_for_allocation(df_alloc):\n",
    "    mean_rets = df_alloc[ret_cols].mean()\n",
    "\n",
    "    x = np.arange(1, 21).reshape(-1, 1)\n",
    "    model = LinearRegression().fit(x, mean_rets.values)\n",
    "    slope = model.coef_[0]\n",
    "\n",
    "    short_mean = mean_rets[:5].mean()\n",
    "    long_mean = mean_rets[5:].mean()\n",
    "    short_long_ratio = short_mean / (long_mean + 1e-6)\n",
    "\n",
    "    autocorr = np.corrcoef(mean_rets[:-1], mean_rets[1:])[0, 1]\n",
    "\n",
    "    fft_vals = np.fft.rfft(mean_rets - mean_rets.mean())\n",
    "    spectral_energy = np.sum(np.abs(fft_vals)**2)\n",
    "\n",
    "    # 5. Volatilité et asymétrie\n",
    "    volatility = mean_rets.std()\n",
    "    skew = ((mean_rets - mean_rets.mean())**3).mean() / (volatility**3 + 1e-6)\n",
    "\n",
    "    return pd.Series({\n",
    "        \"ALLOC_TREND_SLOPE\": slope,\n",
    "        \"ALLOC_SHORT_LONG_RATIO\": short_long_ratio,\n",
    "        \"ALLOC_AUTOCORR\": autocorr,\n",
    "        \"ALLOC_SPECTRAL_ENERGY\": spectral_energy,\n",
    "        \"ALLOC_VOLATILITY\": volatility,\n",
    "        \"ALLOC_SKEW\": skew\n",
    "    })"
   ]
  },
  {
   "cell_type": "code",
   "execution_count": 35,
   "id": "08a0707f",
   "metadata": {},
   "outputs": [],
   "source": [
    "unique_dates = np.sort(X['TS'].unique())\n",
    "n = len(unique_dates)\n",
    "train_dates = unique_dates[: int(0.8 * n)]   # 80% train\n",
    "test_dates = unique_dates[int(0.8 * n):]     # 20% test\n",
    "\n",
    "train_idx = X['TS'].isin(train_dates)\n",
    "test_idx = X['TS'].isin(test_dates)\n",
    "\n",
    "X_train, y_train_bin, y_train_cont = X.loc[train_idx, :], y_bin.loc[train_idx], y.loc[train_idx]\n",
    "X_test, y_test_bin, y_test_cont = X.loc[test_idx, :], y_bin.loc[test_idx], y.loc[test_idx]\n"
   ]
  },
  {
   "cell_type": "code",
   "execution_count": 36,
   "id": "898cfd26",
   "metadata": {},
   "outputs": [
    {
     "name": "stderr",
     "output_type": "stream",
     "text": [
      "/var/folders/1w/qdnlgvv57jsctw3wf6pt0wlr0000gn/T/ipykernel_51280/1431446780.py:2: SettingWithCopyWarning: \n",
      "A value is trying to be set on a copy of a slice from a DataFrame.\n",
      "Try using .loc[row_indexer,col_indexer] = value instead\n",
      "\n",
      "See the caveats in the documentation: https://pandas.pydata.org/pandas-docs/stable/user_guide/indexing.html#returning-a-view-versus-a-copy\n",
      "  X_train[\"alloc_enc\"] = enc.fit_transform(X_train[\"ALLOCATION\"], y_train_bin)\n",
      "/var/folders/1w/qdnlgvv57jsctw3wf6pt0wlr0000gn/T/ipykernel_51280/1431446780.py:3: SettingWithCopyWarning: \n",
      "A value is trying to be set on a copy of a slice from a DataFrame.\n",
      "Try using .loc[row_indexer,col_indexer] = value instead\n",
      "\n",
      "See the caveats in the documentation: https://pandas.pydata.org/pandas-docs/stable/user_guide/indexing.html#returning-a-view-versus-a-copy\n",
      "  X_test[\"alloc_enc\"] = enc.transform(X_test[\"ALLOCATION\"], y_test_bin)\n"
     ]
    }
   ],
   "source": [
    "enc = TargetEncoder()\n",
    "X_train[\"alloc_enc\"] = enc.fit_transform(X_train[\"ALLOCATION\"], y_train_bin)\n",
    "X_test[\"alloc_enc\"] = enc.transform(X_test[\"ALLOCATION\"], y_test_bin)\n"
   ]
  },
  {
   "cell_type": "code",
   "execution_count": 37,
   "id": "a11e1a66",
   "metadata": {},
   "outputs": [],
   "source": [
    "features=[f for f in features if f in X_train.columns]"
   ]
  },
  {
   "cell_type": "code",
   "execution_count": 38,
   "id": "321d30be",
   "metadata": {},
   "outputs": [],
   "source": [
    "scaler = StandardScaler()\n",
    "X_train_scaled = scaler.fit_transform(X_train[features].fillna(0))\n",
    "X_test_scaled = scaler.transform(X_test[features].fillna(0))"
   ]
  },
  {
   "cell_type": "code",
   "execution_count": 39,
   "id": "932e306e",
   "metadata": {},
   "outputs": [
    {
     "name": "stderr",
     "output_type": "stream",
     "text": [
      "/Users/olivierf/stanford/QRT-Asset-Allocation-Performance-forecasting/QRT_venv/lib/python3.12/site-packages/sklearn/linear_model/_ridge.py:1306: DataConversionWarning: A column-vector y was passed when a 1d array was expected. Please change the shape of y to (n_samples, ), for example using ravel().\n",
      "  y = column_or_1d(y, warn=True)\n"
     ]
    },
    {
     "name": "stdout",
     "output_type": "stream",
     "text": [
      "✅ Test Accuracy (RidgeClassifier): 0.5304\n",
      "\n",
      "🔍 Top 10 feature importances:\n"
     ]
    },
    {
     "name": "stderr",
     "output_type": "stream",
     "text": [
      "/Users/olivierf/stanford/QRT-Asset-Allocation-Performance-forecasting/QRT_venv/lib/python3.12/site-packages/sklearn/utils/extmath.py:203: RuntimeWarning: divide by zero encountered in matmul\n",
      "  ret = a @ b\n",
      "/Users/olivierf/stanford/QRT-Asset-Allocation-Performance-forecasting/QRT_venv/lib/python3.12/site-packages/sklearn/utils/extmath.py:203: RuntimeWarning: overflow encountered in matmul\n",
      "  ret = a @ b\n",
      "/Users/olivierf/stanford/QRT-Asset-Allocation-Performance-forecasting/QRT_venv/lib/python3.12/site-packages/sklearn/utils/extmath.py:203: RuntimeWarning: invalid value encountered in matmul\n",
      "  ret = a @ b\n",
      "/Users/olivierf/stanford/QRT-Asset-Allocation-Performance-forecasting/QRT_venv/lib/python3.12/site-packages/sklearn/utils/extmath.py:203: RuntimeWarning: divide by zero encountered in matmul\n",
      "  ret = a @ b\n",
      "/Users/olivierf/stanford/QRT-Asset-Allocation-Performance-forecasting/QRT_venv/lib/python3.12/site-packages/sklearn/utils/extmath.py:203: RuntimeWarning: overflow encountered in matmul\n",
      "  ret = a @ b\n",
      "/Users/olivierf/stanford/QRT-Asset-Allocation-Performance-forecasting/QRT_venv/lib/python3.12/site-packages/sklearn/utils/extmath.py:203: RuntimeWarning: invalid value encountered in matmul\n",
      "  ret = a @ b\n"
     ]
    }
   ],
   "source": [
    "results_classif = {}\n",
    "\n",
    "name, model=\"RidgeClassifier\",RidgeClassifier(alpha=1e-2, fit_intercept=False)\n",
    "model.fit(X_train_scaled, y_train_bin)\n",
    "y_pred = model.predict(X_test_scaled)\n",
    "\n",
    "\n",
    "# Évaluation\n",
    "acc = accuracy_score(y_test_bin, y_pred)\n",
    "results_classif[name] = acc\n",
    "print(f\"✅ Test Accuracy ({name}): {acc:.4f}\")\n",
    "\n",
    "# Importance des features\n",
    "print(\"\\n🔍 Top 10 feature importances:\")\n",
    "\n",
    "if hasattr(model, \"feature_importances_\"):\n",
    "    importances = model.feature_importances_\n",
    "elif hasattr(model, \"coef_\"):\n",
    "    importances = np.abs(model.coef_.ravel())  # abs pour Ridge\n",
    "\n",
    "importance_df = pd.DataFrame({\n",
    "    \"feature\": features,\n",
    "    \"importance\": importances\n",
    "}).sort_values(\"importance\", ascending=False)\n",
    "top_half = importance_df.iloc[:importance_df.shape[0] // 2][\"feature\"].tolist()\n",
    "best_ridge = top_half\n",
    "\n"
   ]
  }
 ],
 "metadata": {
  "kernelspec": {
   "display_name": "QRT_venv",
   "language": "python",
   "name": "python3"
  },
  "language_info": {
   "codemirror_mode": {
    "name": "ipython",
    "version": 3
   },
   "file_extension": ".py",
   "mimetype": "text/x-python",
   "name": "python",
   "nbconvert_exporter": "python",
   "pygments_lexer": "ipython3",
   "version": "3.12.9"
  }
 },
 "nbformat": 4,
 "nbformat_minor": 5
}
