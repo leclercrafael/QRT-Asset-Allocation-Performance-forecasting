{
 "cells": [
  {
   "cell_type": "code",
   "execution_count": 1,
   "id": "aa145d99",
   "metadata": {},
   "outputs": [
    {
     "name": "stderr",
     "output_type": "stream",
     "text": [
      "/Users/olivierf/stanford/QRT-Asset-Allocation-Performance-forecasting/QRT_venv/lib/python3.12/site-packages/tqdm/auto.py:21: TqdmWarning: IProgress not found. Please update jupyter and ipywidgets. See https://ipywidgets.readthedocs.io/en/stable/user_install.html\n",
      "  from .autonotebook import tqdm as notebook_tqdm\n"
     ]
    }
   ],
   "source": [
    "import pandas as pd\n",
    "import numpy as np\n",
    "import seaborn as sns\n",
    "import matplotlib.pyplot as plt\n",
    "\n",
    "from sklearn import linear_model\n",
    "from sklearn.ensemble import RandomForestClassifier, RandomForestRegressor\n",
    "import lightgbm as lgbm\n",
    "from autogluon.tabular import TabularPredictor\n",
    "from sklearn.metrics import accuracy_score\n",
    "from sklearn.model_selection import train_test_split\n",
    "from sklearn.model_selection import KFold"
   ]
  },
  {
   "cell_type": "code",
   "execution_count": 2,
   "id": "b95c4245",
   "metadata": {},
   "outputs": [],
   "source": [
    "X = pd.read_csv('data/X_train.csv',index_col='ROW_ID')\n",
    "X_test_final = pd.read_csv('data/X_test.csv',index_col='ROW_ID')\n",
    "y_train = pd.read_csv('data/y_train.csv',index_col='ROW_ID')\n",
    "y_bin = (y_train > 0).astype(int) #binariser l outcome pour faire de la classification et pas regression\n",
    "sample_submission = pd.read_csv('data/sample_submission.csv',index_col='ROW_ID')"
   ]
  },
  {
   "cell_type": "code",
   "execution_count": 3,
   "id": "2bafd086",
   "metadata": {},
   "outputs": [],
   "source": [
    "RET_features = [f'RET_{i}' for i in range(1,20)]\n",
    "SIGNED_VOLUME_features = [f'SIGNED_VOLUME_{i}' for i in range(1,20)]\n",
    "TURNOVER_features = ['AVG_DAILY_TURNOVER']\n",
    "for i in [3,5,10,15,20]:\n",
    "    X[ f'AVERAGE_PERF_{i}'] = X[RET_features[:i]].mean(1)\n",
    "    X[ f'ALLOCATIONS_AVERAGE_PERF_{i}'] = X.groupby('TS')[ f'AVERAGE_PERF_{i}'].transform('mean')\n",
    "    \n",
    "    X_test_final[ f'AVERAGE_PERF_{i}'] = X_test_final[RET_features[:i]].mean(1)\n",
    "    X_test_final[ f'ALLOCATIONS_AVERAGE_PERF_{i}'] = X_test_final.groupby('TS')[ f'AVERAGE_PERF_{i}'].transform('mean')\n"
   ]
  },
  {
   "cell_type": "code",
   "execution_count": 4,
   "id": "9c04bc2d",
   "metadata": {},
   "outputs": [],
   "source": [
    "features = RET_features + SIGNED_VOLUME_features + TURNOVER_features\n",
    "features = features + [ f'AVERAGE_PERF_{i}' for i in [3,5,10,15,20]]\n",
    "features = features + [ f'ALLOCATIONS_AVERAGE_PERF_{i}' for i in [3,5,10,15,20]]"
   ]
  },
  {
   "cell_type": "code",
   "execution_count": 5,
   "id": "9c1a3f8f",
   "metadata": {},
   "outputs": [],
   "source": [
    "unique_dates = X['TS'].unique()\n",
    "unique_dates = np.sort(unique_dates)\n",
    "\n",
    "n = len(unique_dates)\n",
    "train_dates = unique_dates[: int(0.6 * n)]\n",
    "tuning_dates = unique_dates[int(0.6 * n): int(0.8 * n)]\n",
    "test_dates = unique_dates[int(0.8 * n):]\n",
    "\n",
    "#separation train/test/tuning en groupant par TS pour eviter fuite de donnee\n",
    "train_idx = X['TS'].isin(train_dates)\n",
    "tuning_idx = X['TS'].isin(tuning_dates)\n",
    "test_idx = X['TS'].isin(test_dates)\n",
    "\n",
    "X_train = X.loc[train_idx].copy()\n",
    "y_train = y_bin.loc[train_idx].copy()\n",
    "\n",
    "X_tune = X.loc[tuning_idx].copy()\n",
    "y_tune = y_bin.loc[tuning_idx].copy()\n",
    "\n",
    "X_test = X.loc[test_idx].copy()\n",
    "y_test = y_bin.loc[test_idx].copy()"
   ]
  },
  {
   "cell_type": "code",
   "execution_count": 6,
   "id": "dc5ada03",
   "metadata": {},
   "outputs": [
    {
     "name": "stderr",
     "output_type": "stream",
     "text": [
      "Verbosity: 3 (Detailed Logging)\n",
      "=================== System Info ===================\n",
      "AutoGluon Version:  1.4.0\n",
      "Python Version:     3.12.9\n",
      "Operating System:   Darwin\n",
      "Platform Machine:   arm64\n",
      "Platform Version:   Darwin Kernel Version 24.6.0: Mon Jul 14 11:30:40 PDT 2025; root:xnu-11417.140.69~1/RELEASE_ARM64_T8132\n",
      "CPU Count:          10\n",
      "GPU Count:          1\n",
      "Memory Avail:       3.19 GB / 16.00 GB (19.9%)\n",
      "Disk Space Avail:   40.69 GB / 228.27 GB (17.8%)\n",
      "===================================================\n",
      "Presets specified: ['best_quality']\n",
      "============ fit kwarg info ============\n",
      "User Specified kwargs:\n",
      "{'auto_stack': True,\n",
      " 'num_bag_folds': 7,\n",
      " 'num_bag_sets': 1,\n",
      " 'num_stack_levels': 4}\n",
      "Full kwargs:\n",
      "{'_experimental_dynamic_hyperparameters': False,\n",
      " '_feature_generator_kwargs': None,\n",
      " '_save_bag_folds': None,\n",
      " 'ag_args': None,\n",
      " 'ag_args_ensemble': None,\n",
      " 'ag_args_fit': None,\n",
      " 'auto_stack': True,\n",
      " 'calibrate': 'auto',\n",
      " 'delay_bag_sets': False,\n",
      " 'ds_args': {'clean_up_fits': True,\n",
      "             'detection_time_frac': 0.25,\n",
      "             'enable_callbacks': False,\n",
      "             'enable_ray_logging': True,\n",
      "             'holdout_data': None,\n",
      "             'holdout_frac': 0.1111111111111111,\n",
      "             'memory_safe_fits': True,\n",
      "             'n_folds': 2,\n",
      "             'n_repeats': 1,\n",
      "             'validation_procedure': 'holdout'},\n",
      " 'excluded_model_types': None,\n",
      " 'feature_generator': 'auto',\n",
      " 'feature_prune_kwargs': None,\n",
      " 'holdout_frac': None,\n",
      " 'hyperparameter_tune_kwargs': None,\n",
      " 'included_model_types': None,\n",
      " 'keep_only_best': False,\n",
      " 'learning_curves': False,\n",
      " 'name_suffix': None,\n",
      " 'num_bag_folds': 7,\n",
      " 'num_bag_sets': 1,\n",
      " 'num_stack_levels': 4,\n",
      " 'pseudo_data': None,\n",
      " 'raise_on_model_failure': False,\n",
      " 'raise_on_no_models_fitted': True,\n",
      " 'refit_full': False,\n",
      " 'save_bag_folds': None,\n",
      " 'save_space': False,\n",
      " 'set_best_to_refit_full': False,\n",
      " 'test_data': None,\n",
      " 'unlabeled_data': None,\n",
      " 'use_bag_holdout': False,\n",
      " 'verbosity': 3}\n",
      "========================================\n",
      "Using hyperparameters preset: hyperparameters='zeroshot'\n",
      "Stack configuration (auto_stack=True): num_stack_levels=4, num_bag_folds=7, num_bag_sets=1\n",
      "DyStack is enabled (dynamic_stacking=True). AutoGluon will try to determine whether the input data is affected by stacked overfitting and enable or disable stacking as a consequence.\n",
      "\tThis is used to identify the optimal `num_stack_levels` value. Copies of AutoGluon will be fit on subsets of the data. Then holdout validation data is used to detect stacked overfitting.\n",
      "\tRunning DyStack for up to 900s of the 3600s of remaining time (25%).\n",
      "2025-10-07 22:35:24,648\tINFO util.py:154 -- Missing packages: ['ipywidgets']. Run `pip install -U ipywidgets`, then restart the notebook server for rich notebook output.\n",
      "\tRunning DyStack sub-fit in a ray process to avoid memory leakage. Enabling ray logging (enable_ray_logging=True). Specify `ds_args={'enable_ray_logging': False}` if you experience logging issues.\n"
     ]
    },
    {
     "ename": "KeyboardInterrupt",
     "evalue": "",
     "output_type": "error",
     "traceback": [
      "\u001b[31m---------------------------------------------------------------------------\u001b[39m",
      "\u001b[31mKeyboardInterrupt\u001b[39m                         Traceback (most recent call last)",
      "\u001b[36mCell\u001b[39m\u001b[36m \u001b[39m\u001b[32mIn[6]\u001b[39m\u001b[32m, line 10\u001b[39m\n\u001b[32m      7\u001b[39m save_path = \u001b[33m\"\u001b[39m\u001b[33mAutogluon_TS_grouped\u001b[39m\u001b[33m\"\u001b[39m\n\u001b[32m      8\u001b[39m predictor = TabularPredictor(label=\u001b[33m'\u001b[39m\u001b[33mtarget\u001b[39m\u001b[33m'\u001b[39m, eval_metric=\u001b[33m'\u001b[39m\u001b[33maccuracy\u001b[39m\u001b[33m'\u001b[39m, path=save_path, verbosity=\u001b[32m3\u001b[39m, problem_type=\u001b[33m'\u001b[39m\u001b[33mbinary\u001b[39m\u001b[33m'\u001b[39m)\n\u001b[32m---> \u001b[39m\u001b[32m10\u001b[39m \u001b[43mpredictor\u001b[49m\u001b[43m.\u001b[49m\u001b[43mfit\u001b[49m\u001b[43m(\u001b[49m\n\u001b[32m     11\u001b[39m \u001b[43m    \u001b[49m\u001b[43mtrain_data\u001b[49m\u001b[43m=\u001b[49m\u001b[43mtrain_data\u001b[49m\u001b[43m,\u001b[49m\n\u001b[32m     12\u001b[39m \u001b[43m    \u001b[49m\u001b[43mtuning_data\u001b[49m\u001b[43m=\u001b[49m\u001b[43mtuning_data\u001b[49m\u001b[43m,\u001b[49m\n\u001b[32m     13\u001b[39m \u001b[43m    \u001b[49m\u001b[43mpresets\u001b[49m\u001b[43m=\u001b[49m\u001b[33;43m'\u001b[39;49m\u001b[33;43mbest_quality\u001b[39;49m\u001b[33;43m'\u001b[39;49m\u001b[43m,\u001b[49m\n\u001b[32m     14\u001b[39m \u001b[43m    \u001b[49m\u001b[43mtime_limit\u001b[49m\u001b[43m=\u001b[49m\u001b[32;43m3600\u001b[39;49m\u001b[43m,\u001b[49m\n\u001b[32m     15\u001b[39m \u001b[43m    \u001b[49m\u001b[43mnum_bag_folds\u001b[49m\u001b[43m \u001b[49m\u001b[43m=\u001b[49m\u001b[43m \u001b[49m\u001b[32;43m7\u001b[39;49m\u001b[43m,\u001b[49m\u001b[43m \u001b[49m\n\u001b[32m     16\u001b[39m \u001b[43m    \u001b[49m\u001b[43mnum_stack_levels\u001b[49m\u001b[43m \u001b[49m\u001b[43m=\u001b[49m\u001b[43m \u001b[49m\u001b[32;43m4\u001b[39;49m\u001b[43m,\u001b[49m\u001b[43m \u001b[49m\n\u001b[32m     17\u001b[39m \u001b[43m    \u001b[49m\u001b[43mauto_stack\u001b[49m\u001b[43m=\u001b[49m\u001b[38;5;28;43;01mTrue\u001b[39;49;00m\u001b[43m,\u001b[49m\n\u001b[32m     18\u001b[39m \u001b[43m    \u001b[49m\u001b[43mdynamic_stacking\u001b[49m\u001b[43m=\u001b[49m\u001b[38;5;28;43;01mTrue\u001b[39;49;00m\u001b[43m  \u001b[49m\n\u001b[32m     19\u001b[39m \u001b[43m)\u001b[49m\n",
      "\u001b[36mFile \u001b[39m\u001b[32m~/stanford/QRT-Asset-Allocation-Performance-forecasting/QRT_venv/lib/python3.12/site-packages/autogluon/core/utils/decorators.py:31\u001b[39m, in \u001b[36munpack.<locals>._unpack_inner.<locals>._call\u001b[39m\u001b[34m(*args, **kwargs)\u001b[39m\n\u001b[32m     28\u001b[39m \u001b[38;5;129m@functools\u001b[39m.wraps(f)\n\u001b[32m     29\u001b[39m \u001b[38;5;28;01mdef\u001b[39;00m\u001b[38;5;250m \u001b[39m\u001b[34m_call\u001b[39m(*args, **kwargs):\n\u001b[32m     30\u001b[39m     gargs, gkwargs = g(*other_args, *args, **kwargs)\n\u001b[32m---> \u001b[39m\u001b[32m31\u001b[39m     \u001b[38;5;28;01mreturn\u001b[39;00m \u001b[43mf\u001b[49m\u001b[43m(\u001b[49m\u001b[43m*\u001b[49m\u001b[43mgargs\u001b[49m\u001b[43m,\u001b[49m\u001b[43m \u001b[49m\u001b[43m*\u001b[49m\u001b[43m*\u001b[49m\u001b[43mgkwargs\u001b[49m\u001b[43m)\u001b[49m\n",
      "\u001b[36mFile \u001b[39m\u001b[32m~/stanford/QRT-Asset-Allocation-Performance-forecasting/QRT_venv/lib/python3.12/site-packages/autogluon/tabular/predictor/predictor.py:1344\u001b[39m, in \u001b[36mTabularPredictor.fit\u001b[39m\u001b[34m(self, train_data, tuning_data, time_limit, presets, hyperparameters, feature_metadata, infer_limit, infer_limit_batch_size, fit_weighted_ensemble, fit_full_last_level_weighted_ensemble, full_weighted_ensemble_additionally, dynamic_stacking, calibrate_decision_threshold, num_cpus, num_gpus, fit_strategy, memory_limit, callbacks, **kwargs)\u001b[39m\n\u001b[32m   1338\u001b[39m \u001b[38;5;28;01mif\u001b[39;00m dynamic_stacking:\n\u001b[32m   1339\u001b[39m     logger.log(\n\u001b[32m   1340\u001b[39m         \u001b[32m20\u001b[39m,\n\u001b[32m   1341\u001b[39m         \u001b[33mf\u001b[39m\u001b[33m\"\u001b[39m\u001b[33mDyStack is enabled (dynamic_stacking=\u001b[39m\u001b[38;5;132;01m{\u001b[39;00mdynamic_stacking\u001b[38;5;132;01m}\u001b[39;00m\u001b[33m). \u001b[39m\u001b[33m\"\u001b[39m\n\u001b[32m   1342\u001b[39m         \u001b[33m\"\u001b[39m\u001b[33mAutoGluon will try to determine whether the input data is affected by stacked overfitting and enable or disable stacking as a consequence.\u001b[39m\u001b[33m\"\u001b[39m,\n\u001b[32m   1343\u001b[39m     )\n\u001b[32m-> \u001b[39m\u001b[32m1344\u001b[39m     num_stack_levels, time_limit = \u001b[38;5;28;43mself\u001b[39;49m\u001b[43m.\u001b[49m\u001b[43m_dynamic_stacking\u001b[49m\u001b[43m(\u001b[49m\u001b[43m*\u001b[49m\u001b[43m*\u001b[49m\u001b[43mds_args\u001b[49m\u001b[43m,\u001b[49m\u001b[43m \u001b[49m\u001b[43mag_fit_kwargs\u001b[49m\u001b[43m=\u001b[49m\u001b[43mag_fit_kwargs\u001b[49m\u001b[43m,\u001b[49m\u001b[43m \u001b[49m\u001b[43mag_post_fit_kwargs\u001b[49m\u001b[43m=\u001b[49m\u001b[43mag_post_fit_kwargs\u001b[49m\u001b[43m)\u001b[49m\n\u001b[32m   1345\u001b[39m     logger.info(\n\u001b[32m   1346\u001b[39m         \u001b[33mf\u001b[39m\u001b[33m\"\u001b[39m\u001b[33mStarting main fit with num_stack_levels=\u001b[39m\u001b[38;5;132;01m{\u001b[39;00mnum_stack_levels\u001b[38;5;132;01m}\u001b[39;00m\u001b[33m.\u001b[39m\u001b[38;5;130;01m\\n\u001b[39;00m\u001b[33m\"\u001b[39m\n\u001b[32m   1347\u001b[39m         \u001b[33mf\u001b[39m\u001b[33m\"\u001b[39m\u001b[38;5;130;01m\\t\u001b[39;00m\u001b[33mFor future fit calls on this dataset, you can skip DyStack to save time: \u001b[39m\u001b[33m\"\u001b[39m\n\u001b[32m   1348\u001b[39m         \u001b[33mf\u001b[39m\u001b[33m\"\u001b[39m\u001b[33m`predictor.fit(..., dynamic_stacking=False, num_stack_levels=\u001b[39m\u001b[38;5;132;01m{\u001b[39;00mnum_stack_levels\u001b[38;5;132;01m}\u001b[39;00m\u001b[33m)`\u001b[39m\u001b[33m\"\u001b[39m\n\u001b[32m   1349\u001b[39m     )\n\u001b[32m   1351\u001b[39m     \u001b[38;5;28;01mif\u001b[39;00m (time_limit \u001b[38;5;129;01mis\u001b[39;00m \u001b[38;5;129;01mnot\u001b[39;00m \u001b[38;5;28;01mNone\u001b[39;00m) \u001b[38;5;129;01mand\u001b[39;00m (time_limit <= \u001b[32m0\u001b[39m):\n",
      "\u001b[36mFile \u001b[39m\u001b[32m~/stanford/QRT-Asset-Allocation-Performance-forecasting/QRT_venv/lib/python3.12/site-packages/autogluon/tabular/predictor/predictor.py:1444\u001b[39m, in \u001b[36mTabularPredictor._dynamic_stacking\u001b[39m\u001b[34m(self, ag_fit_kwargs, ag_post_fit_kwargs, validation_procedure, detection_time_frac, holdout_frac, n_folds, n_repeats, memory_safe_fits, clean_up_fits, enable_ray_logging, enable_callbacks, holdout_data)\u001b[39m\n\u001b[32m   1441\u001b[39m         _, holdout_data, _, _ = \u001b[38;5;28mself\u001b[39m._validate_fit_data(train_data=X, tuning_data=holdout_data)\n\u001b[32m   1442\u001b[39m         ds_fit_kwargs[\u001b[33m\"\u001b[39m\u001b[33mds_fit_context\u001b[39m\u001b[33m\"\u001b[39m] = os.path.join(ds_fit_context, \u001b[33m\"\u001b[39m\u001b[33msub_fit_custom_ho\u001b[39m\u001b[33m\"\u001b[39m)\n\u001b[32m-> \u001b[39m\u001b[32m1444\u001b[39m     stacked_overfitting = \u001b[38;5;28;43mself\u001b[39;49m\u001b[43m.\u001b[49m\u001b[43m_sub_fit_memory_save_wrapper\u001b[49m\u001b[43m(\u001b[49m\n\u001b[32m   1445\u001b[39m \u001b[43m        \u001b[49m\u001b[43mtrain_data\u001b[49m\u001b[43m=\u001b[49m\u001b[43mX\u001b[49m\u001b[43m,\u001b[49m\n\u001b[32m   1446\u001b[39m \u001b[43m        \u001b[49m\u001b[43mtime_limit\u001b[49m\u001b[43m=\u001b[49m\u001b[43mtime_limit\u001b[49m\u001b[43m,\u001b[49m\n\u001b[32m   1447\u001b[39m \u001b[43m        \u001b[49m\u001b[43mtime_start\u001b[49m\u001b[43m=\u001b[49m\u001b[43mtime_start\u001b[49m\u001b[43m,\u001b[49m\n\u001b[32m   1448\u001b[39m \u001b[43m        \u001b[49m\u001b[43mds_fit_kwargs\u001b[49m\u001b[43m=\u001b[49m\u001b[43mds_fit_kwargs\u001b[49m\u001b[43m,\u001b[49m\n\u001b[32m   1449\u001b[39m \u001b[43m        \u001b[49m\u001b[43mag_fit_kwargs\u001b[49m\u001b[43m=\u001b[49m\u001b[43minner_ag_fit_kwargs\u001b[49m\u001b[43m,\u001b[49m\n\u001b[32m   1450\u001b[39m \u001b[43m        \u001b[49m\u001b[43mag_post_fit_kwargs\u001b[49m\u001b[43m=\u001b[49m\u001b[43minner_ag_post_fit_kwargs\u001b[49m\u001b[43m,\u001b[49m\n\u001b[32m   1451\u001b[39m \u001b[43m        \u001b[49m\u001b[43mholdout_data\u001b[49m\u001b[43m=\u001b[49m\u001b[43mholdout_data\u001b[49m\u001b[43m,\u001b[49m\n\u001b[32m   1452\u001b[39m \u001b[43m    \u001b[49m\u001b[43m)\u001b[49m\n\u001b[32m   1453\u001b[39m \u001b[38;5;28;01melse\u001b[39;00m:\n\u001b[32m   1454\u001b[39m     \u001b[38;5;66;03m# Holdout is false, use (repeated) cross-validation\u001b[39;00m\n\u001b[32m   1455\u001b[39m     is_stratified = \u001b[38;5;28mself\u001b[39m.problem_type \u001b[38;5;129;01min\u001b[39;00m [BINARY, MULTICLASS]\n",
      "\u001b[36mFile \u001b[39m\u001b[32m~/stanford/QRT-Asset-Allocation-Performance-forecasting/QRT_venv/lib/python3.12/site-packages/autogluon/tabular/predictor/predictor.py:1566\u001b[39m, in \u001b[36mTabularPredictor._sub_fit_memory_save_wrapper\u001b[39m\u001b[34m(self, train_data, time_limit, time_start, ds_fit_kwargs, ag_fit_kwargs, ag_post_fit_kwargs, holdout_data)\u001b[39m\n\u001b[32m   1561\u001b[39m \u001b[38;5;28;01mif\u001b[39;00m enable_ray_logging:\n\u001b[32m   1562\u001b[39m     logger.info(\n\u001b[32m   1563\u001b[39m         \u001b[33mf\u001b[39m\u001b[33m\"\u001b[39m\u001b[38;5;130;01m\\t\u001b[39;00m\u001b[33mRunning DyStack sub-fit in a ray process to avoid memory leakage. \u001b[39m\u001b[33m\"\u001b[39m\n\u001b[32m   1564\u001b[39m         \u001b[33m\"\u001b[39m\u001b[33mEnabling ray logging (enable_ray_logging=True). Specify `ds_args=\u001b[39m\u001b[33m{\u001b[39m\u001b[33m'\u001b[39m\u001b[33menable_ray_logging\u001b[39m\u001b[33m'\u001b[39m\u001b[33m: False}` if you experience logging issues.\u001b[39m\u001b[33m\"\u001b[39m\n\u001b[32m   1565\u001b[39m     )\n\u001b[32m-> \u001b[39m\u001b[32m1566\u001b[39m     \u001b[43m_ds_ray\u001b[49m\u001b[43m.\u001b[49m\u001b[43minit\u001b[49m\u001b[43m(\u001b[49m\u001b[43m)\u001b[49m\n\u001b[32m   1567\u001b[39m \u001b[38;5;28;01melse\u001b[39;00m:\n\u001b[32m   1568\u001b[39m     logger.info(\n\u001b[32m   1569\u001b[39m         \u001b[33mf\u001b[39m\u001b[33m\"\u001b[39m\u001b[38;5;130;01m\\t\u001b[39;00m\u001b[33mRunning DyStack sub-fit in a ray process to avoid memory leakage. \u001b[39m\u001b[33m\"\u001b[39m\n\u001b[32m   1570\u001b[39m         \u001b[33m\"\u001b[39m\u001b[33mLogs will not be shown until this process is complete (enable_ray_logging=False). \u001b[39m\u001b[33m\"\u001b[39m\n\u001b[32m   1571\u001b[39m         \u001b[33m\"\u001b[39m\u001b[33mYou can experimentally enable logging by specifying `ds_args=\u001b[39m\u001b[33m{\u001b[39m\u001b[33m'\u001b[39m\u001b[33menable_ray_logging\u001b[39m\u001b[33m'\u001b[39m\u001b[33m: True}`.\u001b[39m\u001b[33m\"\u001b[39m\n\u001b[32m   1572\u001b[39m     )\n",
      "\u001b[36mFile \u001b[39m\u001b[32m~/stanford/QRT-Asset-Allocation-Performance-forecasting/QRT_venv/lib/python3.12/site-packages/ray/_private/client_mode_hook.py:103\u001b[39m, in \u001b[36mclient_mode_hook.<locals>.wrapper\u001b[39m\u001b[34m(*args, **kwargs)\u001b[39m\n\u001b[32m    101\u001b[39m     \u001b[38;5;28;01mif\u001b[39;00m func.\u001b[34m__name__\u001b[39m != \u001b[33m\"\u001b[39m\u001b[33minit\u001b[39m\u001b[33m\"\u001b[39m \u001b[38;5;129;01mor\u001b[39;00m is_client_mode_enabled_by_default:\n\u001b[32m    102\u001b[39m         \u001b[38;5;28;01mreturn\u001b[39;00m \u001b[38;5;28mgetattr\u001b[39m(ray, func.\u001b[34m__name__\u001b[39m)(*args, **kwargs)\n\u001b[32m--> \u001b[39m\u001b[32m103\u001b[39m \u001b[38;5;28;01mreturn\u001b[39;00m \u001b[43mfunc\u001b[49m\u001b[43m(\u001b[49m\u001b[43m*\u001b[49m\u001b[43margs\u001b[49m\u001b[43m,\u001b[49m\u001b[43m \u001b[49m\u001b[43m*\u001b[49m\u001b[43m*\u001b[49m\u001b[43mkwargs\u001b[49m\u001b[43m)\u001b[49m\n",
      "\u001b[36mFile \u001b[39m\u001b[32m~/stanford/QRT-Asset-Allocation-Performance-forecasting/QRT_venv/lib/python3.12/site-packages/ray/_private/worker.py:1744\u001b[39m, in \u001b[36minit\u001b[39m\u001b[34m(address, num_cpus, num_gpus, resources, labels, object_store_memory, local_mode, ignore_reinit_error, include_dashboard, dashboard_host, dashboard_port, job_config, configure_logging, logging_level, logging_format, logging_config, log_to_driver, namespace, runtime_env, storage, **kwargs)\u001b[39m\n\u001b[32m   1711\u001b[39m     ray_params = ray._private.parameter.RayParams(\n\u001b[32m   1712\u001b[39m         node_ip_address=_node_ip_address,\n\u001b[32m   1713\u001b[39m         object_ref_seed=\u001b[38;5;28;01mNone\u001b[39;00m,\n\u001b[32m   (...)\u001b[39m\u001b[32m   1738\u001b[39m         node_name=_node_name,\n\u001b[32m   1739\u001b[39m     )\n\u001b[32m   1740\u001b[39m     \u001b[38;5;66;03m# Start the Ray processes. We set shutdown_at_exit=False because we\u001b[39;00m\n\u001b[32m   1741\u001b[39m     \u001b[38;5;66;03m# shutdown the node in the ray.shutdown call that happens in the atexit\u001b[39;00m\n\u001b[32m   1742\u001b[39m     \u001b[38;5;66;03m# handler. We still spawn a reaper process in case the atexit handler\u001b[39;00m\n\u001b[32m   1743\u001b[39m     \u001b[38;5;66;03m# isn't called.\u001b[39;00m\n\u001b[32m-> \u001b[39m\u001b[32m1744\u001b[39m     _global_node = \u001b[43mray\u001b[49m\u001b[43m.\u001b[49m\u001b[43m_private\u001b[49m\u001b[43m.\u001b[49m\u001b[43mnode\u001b[49m\u001b[43m.\u001b[49m\u001b[43mNode\u001b[49m\u001b[43m(\u001b[49m\n\u001b[32m   1745\u001b[39m \u001b[43m        \u001b[49m\u001b[43mray_params\u001b[49m\u001b[43m=\u001b[49m\u001b[43mray_params\u001b[49m\u001b[43m,\u001b[49m\n\u001b[32m   1746\u001b[39m \u001b[43m        \u001b[49m\u001b[43mhead\u001b[49m\u001b[43m=\u001b[49m\u001b[38;5;28;43;01mTrue\u001b[39;49;00m\u001b[43m,\u001b[49m\n\u001b[32m   1747\u001b[39m \u001b[43m        \u001b[49m\u001b[43mshutdown_at_exit\u001b[49m\u001b[43m=\u001b[49m\u001b[38;5;28;43;01mFalse\u001b[39;49;00m\u001b[43m,\u001b[49m\n\u001b[32m   1748\u001b[39m \u001b[43m        \u001b[49m\u001b[43mspawn_reaper\u001b[49m\u001b[43m=\u001b[49m\u001b[38;5;28;43;01mTrue\u001b[39;49;00m\u001b[43m,\u001b[49m\n\u001b[32m   1749\u001b[39m \u001b[43m        \u001b[49m\u001b[43mray_init_cluster\u001b[49m\u001b[43m=\u001b[49m\u001b[38;5;28;43;01mTrue\u001b[39;49;00m\u001b[43m,\u001b[49m\n\u001b[32m   1750\u001b[39m \u001b[43m    \u001b[49m\u001b[43m)\u001b[49m\n\u001b[32m   1751\u001b[39m \u001b[38;5;28;01melse\u001b[39;00m:\n\u001b[32m   1752\u001b[39m     \u001b[38;5;66;03m# In this case, we are connecting to an existing cluster.\u001b[39;00m\n\u001b[32m   1753\u001b[39m     \u001b[38;5;28;01mif\u001b[39;00m num_cpus \u001b[38;5;129;01mis\u001b[39;00m \u001b[38;5;129;01mnot\u001b[39;00m \u001b[38;5;28;01mNone\u001b[39;00m \u001b[38;5;129;01mor\u001b[39;00m num_gpus \u001b[38;5;129;01mis\u001b[39;00m \u001b[38;5;129;01mnot\u001b[39;00m \u001b[38;5;28;01mNone\u001b[39;00m:\n",
      "\u001b[36mFile \u001b[39m\u001b[32m~/stanford/QRT-Asset-Allocation-Performance-forecasting/QRT_venv/lib/python3.12/site-packages/ray/_private/node.py:342\u001b[39m, in \u001b[36mNode.__init__\u001b[39m\u001b[34m(self, ray_params, head, shutdown_at_exit, spawn_reaper, connect_only, default_worker, ray_init_cluster)\u001b[39m\n\u001b[32m    340\u001b[39m \u001b[38;5;66;03m# we should update the address info after the node has been started\u001b[39;00m\n\u001b[32m    341\u001b[39m \u001b[38;5;28;01mtry\u001b[39;00m:\n\u001b[32m--> \u001b[39m\u001b[32m342\u001b[39m     \u001b[43mray\u001b[49m\u001b[43m.\u001b[49m\u001b[43m_private\u001b[49m\u001b[43m.\u001b[49m\u001b[43mservices\u001b[49m\u001b[43m.\u001b[49m\u001b[43mwait_for_node\u001b[49m\u001b[43m(\u001b[49m\n\u001b[32m    343\u001b[39m \u001b[43m        \u001b[49m\u001b[38;5;28;43mself\u001b[39;49m\u001b[43m.\u001b[49m\u001b[43mgcs_address\u001b[49m\u001b[43m,\u001b[49m\n\u001b[32m    344\u001b[39m \u001b[43m        \u001b[49m\u001b[38;5;28;43mself\u001b[39;49m\u001b[43m.\u001b[49m\u001b[43m_plasma_store_socket_name\u001b[49m\u001b[43m,\u001b[49m\n\u001b[32m    345\u001b[39m \u001b[43m    \u001b[49m\u001b[43m)\u001b[49m\n\u001b[32m    346\u001b[39m \u001b[38;5;28;01mexcept\u001b[39;00m \u001b[38;5;167;01mTimeoutError\u001b[39;00m \u001b[38;5;28;01mas\u001b[39;00m te:\n\u001b[32m    347\u001b[39m     \u001b[38;5;28;01mraise\u001b[39;00m \u001b[38;5;167;01mException\u001b[39;00m(\n\u001b[32m    348\u001b[39m         \u001b[33m\"\u001b[39m\u001b[33mThe current node timed out during startup. This \u001b[39m\u001b[33m\"\u001b[39m\n\u001b[32m    349\u001b[39m         \u001b[33m\"\u001b[39m\u001b[33mcould happen because some of the Ray processes \u001b[39m\u001b[33m\"\u001b[39m\n\u001b[32m    350\u001b[39m         \u001b[33m\"\u001b[39m\u001b[33mfailed to startup.\u001b[39m\u001b[33m\"\u001b[39m\n\u001b[32m    351\u001b[39m     ) \u001b[38;5;28;01mfrom\u001b[39;00m\u001b[38;5;250m \u001b[39m\u001b[34;01mte\u001b[39;00m\n",
      "\u001b[36mFile \u001b[39m\u001b[32m~/stanford/QRT-Asset-Allocation-Performance-forecasting/QRT_venv/lib/python3.12/site-packages/ray/_private/services.py:468\u001b[39m, in \u001b[36mwait_for_node\u001b[39m\u001b[34m(gcs_address, node_plasma_store_socket_name, timeout)\u001b[39m\n\u001b[32m    466\u001b[39m         \u001b[38;5;28;01mreturn\u001b[39;00m\n\u001b[32m    467\u001b[39m     \u001b[38;5;28;01melse\u001b[39;00m:\n\u001b[32m--> \u001b[39m\u001b[32m468\u001b[39m         \u001b[43mtime\u001b[49m\u001b[43m.\u001b[49m\u001b[43msleep\u001b[49m\u001b[43m(\u001b[49m\u001b[32;43m0.1\u001b[39;49m\u001b[43m)\u001b[49m\n\u001b[32m    469\u001b[39m \u001b[38;5;28;01mraise\u001b[39;00m \u001b[38;5;167;01mTimeoutError\u001b[39;00m(\n\u001b[32m    470\u001b[39m     \u001b[33mf\u001b[39m\u001b[33m\"\u001b[39m\u001b[33mTimed out after \u001b[39m\u001b[38;5;132;01m{\u001b[39;00mtimeout\u001b[38;5;132;01m}\u001b[39;00m\u001b[33m seconds while waiting for node to startup. \u001b[39m\u001b[33m\"\u001b[39m\n\u001b[32m    471\u001b[39m     \u001b[33mf\u001b[39m\u001b[33m\"\u001b[39m\u001b[33mDid not find socket name \u001b[39m\u001b[38;5;132;01m{\u001b[39;00mnode_plasma_store_socket_name\u001b[38;5;132;01m}\u001b[39;00m\u001b[33m in the list \u001b[39m\u001b[33m\"\u001b[39m\n\u001b[32m    472\u001b[39m     \u001b[33m\"\u001b[39m\u001b[33mof object store socket names.\u001b[39m\u001b[33m\"\u001b[39m\n\u001b[32m    473\u001b[39m )\n",
      "\u001b[31mKeyboardInterrupt\u001b[39m: "
     ]
    }
   ],
   "source": [
    "\n",
    "train_data = X_train[features].copy()\n",
    "train_data['target'] = y_train\n",
    "\n",
    "tuning_data = X_tune[features].copy()\n",
    "tuning_data['target'] = y_tune\n",
    "\n",
    "save_path = \"Autogluon_TS_grouped\"\n",
    "predictor = TabularPredictor(label='target', eval_metric='accuracy', path=save_path, verbosity=3, problem_type='binary')\n",
    "\n",
    "predictor.fit(\n",
    "    train_data=train_data,\n",
    "    tuning_data=tuning_data,\n",
    "    presets='best_quality',\n",
    "    time_limit=3600,\n",
    "    num_bag_folds = 7, \n",
    "    num_stack_levels = 4, \n",
    "    auto_stack=True,\n",
    "    dynamic_stacking=True  \n",
    ")"
   ]
  },
  {
   "cell_type": "code",
   "execution_count": null,
   "id": "54be74c1",
   "metadata": {},
   "outputs": [],
   "source": [
    "y_pred = predictor.predict(X_test[features])\n",
    "acc = accuracy_score(y_test, y_pred)\n",
    "print(f\"Test accuracy (grouped by TS): {acc*100:.2f}%\")\n",
    "\n",
    "# leaderboard & feature importances\n",
    "lb = predictor.leaderboard(X_test[features], silent=True)\n",
    "print(lb[['model','score_val','score_test','fit_time','pred_time']])\n",
    "\n",
    "fi = predictor.feature_importance(X_test[features])\n",
    "print(fi.head(30))"
   ]
  },
  {
   "cell_type": "code",
   "execution_count": null,
   "id": "e2eef854",
   "metadata": {},
   "outputs": [],
   "source": [
    "preds = predictor.predict(X_test_final[features])\n",
    "\n",
    "# transforme en DataFrame et exporte\n",
    "preds_df = pd.DataFrame(preds, index=sample_submission.index, columns=['target'])\n",
    "preds_df.to_csv(\"preds_autogluon.csv\")\n",
    "(preds_df > 0.5).astype(int).to_csv(\"preds_autogluon_binaire.csv\")\n"
   ]
  }
 ],
 "metadata": {
  "kernelspec": {
   "display_name": "QRT_venv",
   "language": "python",
   "name": "python3"
  },
  "language_info": {
   "codemirror_mode": {
    "name": "ipython",
    "version": 3
   },
   "file_extension": ".py",
   "mimetype": "text/x-python",
   "name": "python",
   "nbconvert_exporter": "python",
   "pygments_lexer": "ipython3",
   "version": "3.12.9"
  }
 },
 "nbformat": 4,
 "nbformat_minor": 5
}
