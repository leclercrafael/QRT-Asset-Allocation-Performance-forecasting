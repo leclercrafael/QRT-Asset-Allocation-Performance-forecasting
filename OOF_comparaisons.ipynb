{
 "cells": [
  {
   "cell_type": "code",
   "execution_count": 47,
   "id": "8ad76756",
   "metadata": {},
   "outputs": [],
   "source": [
    "import pandas as pd\n",
    "import numpy as np\n",
    "import matplotlib.pyplot as plt\n",
    "from sklearn.model_selection import KFold\n",
    "from sklearn.linear_model import RidgeClassifier,Ridge\n",
    "from sklearn.ensemble import RandomForestClassifier,RandomForestRegressor\n",
    "import lightgbm as lgb\n",
    "from sklearn.metrics import accuracy_score\n",
    "from sklearn.preprocessing import StandardScaler\n",
    "import xgboost as xgb\n",
    "from catboost import CatBoostClassifier,CatBoostRegressor\n",
    "from category_encoders import TargetEncoder\n",
    "from lightgbm import LGBMClassifier\n",
    "from sklearn.neighbors import KNeighborsClassifier"
   ]
  },
  {
   "cell_type": "code",
   "execution_count": 48,
   "id": "9918f3cf",
   "metadata": {},
   "outputs": [],
   "source": [
    "X = pd.read_csv('data/X_train.csv',index_col='ROW_ID')\n",
    "X_test_final = pd.read_csv('data/X_test.csv',index_col='ROW_ID')\n",
    "y = pd.read_csv('data/y_train.csv',index_col='ROW_ID')\n",
    "y_bin = (y > 0).astype(int) #binariser l outcome pour faire de la classification et pas regression\n",
    "sample_submission = pd.read_csv('data/sample_submission.csv',index_col='ROW_ID')"
   ]
  },
  {
   "cell_type": "code",
   "execution_count": 49,
   "id": "5f902660",
   "metadata": {},
   "outputs": [],
   "source": [
    "\n",
    "RET_features = [f'RET_{i}' for i in range(1, 20)]\n",
    "SIGNED_VOLUME_features = [f'SIGNED_VOLUME_{i}' for i in range(1, 20)]\n",
    "TURNOVER_features = ['AVG_DAILY_TURNOVER']\n",
    "\n",
    "for i in [3, 5, 10, 15, 20]:\n",
    "    X[f'AVERAGE_PERF_{i}'] = X[RET_features[:i]].mean(1)\n",
    "    X[f'ALLOCATIONS_AVERAGE_PERF_{i}'] = X.groupby('TS')[f'AVERAGE_PERF_{i}'].transform('mean')\n",
    "    X_test_final[f'AVERAGE_PERF_{i}'] = X_test_final[RET_features[:i]].mean(1)\n",
    "    X_test_final[f'ALLOCATIONS_AVERAGE_PERF_{i}'] = X_test_final.groupby('TS')[f'AVERAGE_PERF_{i}'].transform('mean')\n",
    "\n",
    "features = RET_features + SIGNED_VOLUME_features + TURNOVER_features\n",
    "features += [f'AVERAGE_PERF_{i}' for i in [3, 5, 10, 15, 20]]\n",
    "features += [f'ALLOCATIONS_AVERAGE_PERF_{i}' for i in [3, 5, 10, 15, 20]]"
   ]
  },
  {
   "cell_type": "code",
   "execution_count": 50,
   "id": "7d533ed9",
   "metadata": {},
   "outputs": [
    {
     "name": "stderr",
     "output_type": "stream",
     "text": [
      "<>:15: SyntaxWarning: invalid escape sequence '\\d'\n",
      "<>:16: SyntaxWarning: invalid escape sequence '\\d'\n",
      "<>:15: SyntaxWarning: invalid escape sequence '\\d'\n",
      "<>:16: SyntaxWarning: invalid escape sequence '\\d'\n",
      "/var/folders/1w/qdnlgvv57jsctw3wf6pt0wlr0000gn/T/ipykernel_43797/3058631560.py:15: SyntaxWarning: invalid escape sequence '\\d'\n",
      "  X[\"TS_num\"] = X[\"TS\"].str.extract(\"(\\d+)\").astype(int)\n",
      "/var/folders/1w/qdnlgvv57jsctw3wf6pt0wlr0000gn/T/ipykernel_43797/3058631560.py:16: SyntaxWarning: invalid escape sequence '\\d'\n",
      "  X_test_final[\"TS_num\"] = X_test_final[\"TS\"].str.extract(\"(\\d+)\").astype(int)\n"
     ]
    }
   ],
   "source": [
    "X[\"RET_VOLATILITY_20\"] = X[RET_features].std(axis=1)\n",
    "X_test_final[\"RET_VOLATILITY_20\"] = X_test_final[RET_features].std(axis=1)\n",
    "\n",
    "X[\"RET_MOMENTUM\"] = X[\"RET_1\"] - X[RET_features].mean(axis=1)\n",
    "X_test_final[\"RET_MOMENTUM\"] = X_test_final[\"RET_1\"] - X_test_final[RET_features].mean(axis=1)\n",
    "\n",
    "# Ratio perf/vol (Sharpe-like)\n",
    "X[\"RET_SHARPE\"] = X[\"RET_MOMENTUM\"] / (X[\"RET_VOLATILITY_20\"] + 1e-6)\n",
    "X_test_final[\"RET_SHARPE\"] = X_test_final[\"RET_MOMENTUM\"] / (X_test_final[\"RET_VOLATILITY_20\"] + 1e-6)\n",
    "\n",
    "# Liquidity volatility\n",
    "X[\"SIGNED_VOLUME_VOL\"] = X[SIGNED_VOLUME_features].std(axis=1)\n",
    "X_test_final[\"SIGNED_VOLUME_VOL\"] = X_test_final[SIGNED_VOLUME_features].std(axis=1)\n",
    "\n",
    "X[\"TS_num\"] = X[\"TS\"].str.extract(\"(\\d+)\").astype(int)\n",
    "X_test_final[\"TS_num\"] = X_test_final[\"TS\"].str.extract(\"(\\d+)\").astype(int)\n",
    "X[\"RET_TREND_5\"] = X[\"RET_20\"] - X[\"RET_15\"]\n",
    "X[\"VOL_TREND_5\"] = X[\"SIGNED_VOLUME_20\"] - X[\"SIGNED_VOLUME_15\"]\n",
    "\n",
    "# Décalage du dernier retour\n",
    "X[\"RET_LAG1\"] = X[\"RET_1\"]\n",
    "X[\"RET_DIFF1\"] = X[\"RET_1\"] - X[\"RET_2\"]\n",
    "\n",
    "# Skewness et kurtosis sur les 20 derniers jours\n",
    "X[\"RET_SKEW_20\"] = X[RET_features].skew(axis=1)\n",
    "X[\"RET_KURT_20\"] = X[RET_features].kurt(axis=1)\n",
    "\n",
    "# Ratio volume/performance (liquidité relative)\n",
    "X[\"VOL_PERF_RATIO\"] = X[SIGNED_VOLUME_features].mean(axis=1) / (X[RET_features].std(axis=1) + 1e-6)\n",
    "\n",
    "# Moyenne pondérée des performances récentes (momentum lissé)\n",
    "weights = np.linspace(1, 2, 19)\n",
    "X[\"RET_WEIGHTED_MOMENTUM\"] = (X[RET_features].values * weights).sum(axis=1) / weights.sum()\n",
    "\n",
    "\n"
   ]
  },
  {
   "cell_type": "code",
   "execution_count": 51,
   "id": "b654a0f2",
   "metadata": {},
   "outputs": [],
   "source": [
    "features = (\n",
    "    RET_features\n",
    "    + SIGNED_VOLUME_features\n",
    "    + TURNOVER_features\n",
    "    + [f'AVERAGE_PERF_{i}' for i in [3, 5, 10, 15, 20]]\n",
    "    + [f'ALLOCATIONS_AVERAGE_PERF_{i}' for i in [3, 5, 10, 15, 20]]\n",
    "    + [\"RET_VOLATILITY_20\", \"RET_MOMENTUM\", \"RET_SHARPE\", \"SIGNED_VOLUME_VOL\",\"VOL_TREND_5\",\"RET_TREND_5\"]\n",
    "    +[\"TS_num\"]\n",
    "    +[\"VOL_PERF_RATIO\",\"RET_KURT_20\",\"RET_SKEW_20\",\"RET_DIFF1\",\"RET_LAG1\"]\n",
    ")"
   ]
  },
  {
   "cell_type": "code",
   "execution_count": 52,
   "id": "22e8e98b",
   "metadata": {},
   "outputs": [],
   "source": [
    "features=[\n",
    " 'RET_SHARPE',\n",
    " 'RET_15',\n",
    " 'RET_TREND_5',\n",
    " 'AVERAGE_PERF_20',\n",
    " 'ALLOCATIONS_AVERAGE_PERF_5',\n",
    " 'RET_1',\n",
    " 'RET_6',\n",
    " 'SIGNED_VOLUME_3',\n",
    " 'SIGNED_VOLUME_19',\n",
    " 'ALLOCATIONS_AVERAGE_PERF_10',\n",
    " 'ALLOCATIONS_AVERAGE_PERF_3',\n",
    " 'ALLOCATIONS_AVERAGE_PERF_15',\n",
    " 'RET_MOMENTUM']"
   ]
  },
  {
   "cell_type": "code",
   "execution_count": 53,
   "id": "08a0707f",
   "metadata": {},
   "outputs": [],
   "source": [
    "unique_dates = np.sort(X['TS'].unique())\n",
    "n_splits = 5  # nombre de folds OOF\n",
    "fold_size = len(unique_dates) // n_splits"
   ]
  },
  {
   "cell_type": "code",
   "execution_count": 54,
   "id": "e996c266",
   "metadata": {},
   "outputs": [],
   "source": [
    "folds = []\n",
    "for i in range(n_splits):\n",
    "    val_dates = unique_dates[i*fold_size : (i+1)*fold_size]\n",
    "    train_dates = unique_dates[:i*fold_size].tolist() + unique_dates[(i+1)*fold_size:].tolist()\n",
    "    folds.append((train_dates, val_dates))\n",
    "models = {\n",
    "    \"Ridge\": RidgeClassifier(alpha=1.0),\n",
    "    \"kNN\": KNeighborsClassifier(n_neighbors=15, weights=\"distance\", n_jobs=-1),\n",
    "    #\"RandomForest\": RandomForestClassifier(n_estimators=200, max_depth=8, random_state=42, n_jobs=-1),\n",
    "    #\"LightGBM\": LGBMClassifier(n_estimators=500, learning_rate=0.05, num_leaves=31, subsample=0.8, colsample_bytree=0.8, random_state=42)\n",
    "}\n",
    "oof_preds = {name: np.zeros(len(X)) for name in models.keys()}\n",
    "y_bin_values = y_bin.values.ravel()"
   ]
  },
  {
   "cell_type": "code",
   "execution_count": 57,
   "id": "898cfd26",
   "metadata": {},
   "outputs": [
    {
     "name": "stdout",
     "output_type": "stream",
     "text": [
      "\n",
      "=== Fold 1 ===\n"
     ]
    },
    {
     "name": "stderr",
     "output_type": "stream",
     "text": [
      "/Users/olivierf/stanford/QRT-Asset-Allocation-Performance-forecasting/QRT_venv/lib/python3.12/site-packages/sklearn/utils/extmath.py:203: RuntimeWarning: divide by zero encountered in matmul\n",
      "  ret = a @ b\n",
      "/Users/olivierf/stanford/QRT-Asset-Allocation-Performance-forecasting/QRT_venv/lib/python3.12/site-packages/sklearn/utils/extmath.py:203: RuntimeWarning: overflow encountered in matmul\n",
      "  ret = a @ b\n",
      "/Users/olivierf/stanford/QRT-Asset-Allocation-Performance-forecasting/QRT_venv/lib/python3.12/site-packages/sklearn/utils/extmath.py:203: RuntimeWarning: invalid value encountered in matmul\n",
      "  ret = a @ b\n",
      "/Users/olivierf/stanford/QRT-Asset-Allocation-Performance-forecasting/QRT_venv/lib/python3.12/site-packages/sklearn/utils/extmath.py:203: RuntimeWarning: divide by zero encountered in matmul\n",
      "  ret = a @ b\n",
      "/Users/olivierf/stanford/QRT-Asset-Allocation-Performance-forecasting/QRT_venv/lib/python3.12/site-packages/sklearn/utils/extmath.py:203: RuntimeWarning: overflow encountered in matmul\n",
      "  ret = a @ b\n",
      "/Users/olivierf/stanford/QRT-Asset-Allocation-Performance-forecasting/QRT_venv/lib/python3.12/site-packages/sklearn/utils/extmath.py:203: RuntimeWarning: invalid value encountered in matmul\n",
      "  ret = a @ b\n",
      "/Users/olivierf/stanford/QRT-Asset-Allocation-Performance-forecasting/QRT_venv/lib/python3.12/site-packages/sklearn/utils/extmath.py:203: RuntimeWarning: divide by zero encountered in matmul\n",
      "  ret = a @ b\n",
      "/Users/olivierf/stanford/QRT-Asset-Allocation-Performance-forecasting/QRT_venv/lib/python3.12/site-packages/sklearn/utils/extmath.py:203: RuntimeWarning: overflow encountered in matmul\n",
      "  ret = a @ b\n",
      "/Users/olivierf/stanford/QRT-Asset-Allocation-Performance-forecasting/QRT_venv/lib/python3.12/site-packages/sklearn/utils/extmath.py:203: RuntimeWarning: invalid value encountered in matmul\n",
      "  ret = a @ b\n",
      "/Users/olivierf/stanford/QRT-Asset-Allocation-Performance-forecasting/QRT_venv/lib/python3.12/site-packages/sklearn/utils/extmath.py:203: RuntimeWarning: divide by zero encountered in matmul\n",
      "  ret = a @ b\n",
      "/Users/olivierf/stanford/QRT-Asset-Allocation-Performance-forecasting/QRT_venv/lib/python3.12/site-packages/sklearn/utils/extmath.py:203: RuntimeWarning: overflow encountered in matmul\n",
      "  ret = a @ b\n",
      "/Users/olivierf/stanford/QRT-Asset-Allocation-Performance-forecasting/QRT_venv/lib/python3.12/site-packages/sklearn/utils/extmath.py:203: RuntimeWarning: invalid value encountered in matmul\n",
      "  ret = a @ b\n"
     ]
    },
    {
     "name": "stdout",
     "output_type": "stream",
     "text": [
      "\n",
      "=== Fold 2 ===\n",
      "\n",
      "=== Fold 3 ===\n"
     ]
    },
    {
     "name": "stderr",
     "output_type": "stream",
     "text": [
      "/Users/olivierf/stanford/QRT-Asset-Allocation-Performance-forecasting/QRT_venv/lib/python3.12/site-packages/sklearn/utils/extmath.py:203: RuntimeWarning: divide by zero encountered in matmul\n",
      "  ret = a @ b\n",
      "/Users/olivierf/stanford/QRT-Asset-Allocation-Performance-forecasting/QRT_venv/lib/python3.12/site-packages/sklearn/utils/extmath.py:203: RuntimeWarning: overflow encountered in matmul\n",
      "  ret = a @ b\n",
      "/Users/olivierf/stanford/QRT-Asset-Allocation-Performance-forecasting/QRT_venv/lib/python3.12/site-packages/sklearn/utils/extmath.py:203: RuntimeWarning: invalid value encountered in matmul\n",
      "  ret = a @ b\n",
      "/Users/olivierf/stanford/QRT-Asset-Allocation-Performance-forecasting/QRT_venv/lib/python3.12/site-packages/sklearn/utils/extmath.py:203: RuntimeWarning: divide by zero encountered in matmul\n",
      "  ret = a @ b\n",
      "/Users/olivierf/stanford/QRT-Asset-Allocation-Performance-forecasting/QRT_venv/lib/python3.12/site-packages/sklearn/utils/extmath.py:203: RuntimeWarning: overflow encountered in matmul\n",
      "  ret = a @ b\n",
      "/Users/olivierf/stanford/QRT-Asset-Allocation-Performance-forecasting/QRT_venv/lib/python3.12/site-packages/sklearn/utils/extmath.py:203: RuntimeWarning: invalid value encountered in matmul\n",
      "  ret = a @ b\n",
      "/Users/olivierf/stanford/QRT-Asset-Allocation-Performance-forecasting/QRT_venv/lib/python3.12/site-packages/sklearn/utils/extmath.py:203: RuntimeWarning: divide by zero encountered in matmul\n",
      "  ret = a @ b\n",
      "/Users/olivierf/stanford/QRT-Asset-Allocation-Performance-forecasting/QRT_venv/lib/python3.12/site-packages/sklearn/utils/extmath.py:203: RuntimeWarning: overflow encountered in matmul\n",
      "  ret = a @ b\n",
      "/Users/olivierf/stanford/QRT-Asset-Allocation-Performance-forecasting/QRT_venv/lib/python3.12/site-packages/sklearn/utils/extmath.py:203: RuntimeWarning: invalid value encountered in matmul\n",
      "  ret = a @ b\n"
     ]
    },
    {
     "name": "stdout",
     "output_type": "stream",
     "text": [
      "\n",
      "=== Fold 4 ===\n"
     ]
    },
    {
     "name": "stderr",
     "output_type": "stream",
     "text": [
      "/Users/olivierf/stanford/QRT-Asset-Allocation-Performance-forecasting/QRT_venv/lib/python3.12/site-packages/sklearn/utils/extmath.py:203: RuntimeWarning: divide by zero encountered in matmul\n",
      "  ret = a @ b\n",
      "/Users/olivierf/stanford/QRT-Asset-Allocation-Performance-forecasting/QRT_venv/lib/python3.12/site-packages/sklearn/utils/extmath.py:203: RuntimeWarning: overflow encountered in matmul\n",
      "  ret = a @ b\n",
      "/Users/olivierf/stanford/QRT-Asset-Allocation-Performance-forecasting/QRT_venv/lib/python3.12/site-packages/sklearn/utils/extmath.py:203: RuntimeWarning: invalid value encountered in matmul\n",
      "  ret = a @ b\n"
     ]
    },
    {
     "name": "stdout",
     "output_type": "stream",
     "text": [
      "\n",
      "=== Fold 5 ===\n"
     ]
    },
    {
     "name": "stderr",
     "output_type": "stream",
     "text": [
      "/Users/olivierf/stanford/QRT-Asset-Allocation-Performance-forecasting/QRT_venv/lib/python3.12/site-packages/sklearn/utils/extmath.py:203: RuntimeWarning: divide by zero encountered in matmul\n",
      "  ret = a @ b\n",
      "/Users/olivierf/stanford/QRT-Asset-Allocation-Performance-forecasting/QRT_venv/lib/python3.12/site-packages/sklearn/utils/extmath.py:203: RuntimeWarning: overflow encountered in matmul\n",
      "  ret = a @ b\n",
      "/Users/olivierf/stanford/QRT-Asset-Allocation-Performance-forecasting/QRT_venv/lib/python3.12/site-packages/sklearn/utils/extmath.py:203: RuntimeWarning: invalid value encountered in matmul\n",
      "  ret = a @ b\n",
      "/Users/olivierf/stanford/QRT-Asset-Allocation-Performance-forecasting/QRT_venv/lib/python3.12/site-packages/sklearn/utils/extmath.py:203: RuntimeWarning: divide by zero encountered in matmul\n",
      "  ret = a @ b\n",
      "/Users/olivierf/stanford/QRT-Asset-Allocation-Performance-forecasting/QRT_venv/lib/python3.12/site-packages/sklearn/utils/extmath.py:203: RuntimeWarning: overflow encountered in matmul\n",
      "  ret = a @ b\n",
      "/Users/olivierf/stanford/QRT-Asset-Allocation-Performance-forecasting/QRT_venv/lib/python3.12/site-packages/sklearn/utils/extmath.py:203: RuntimeWarning: invalid value encountered in matmul\n",
      "  ret = a @ b\n"
     ]
    }
   ],
   "source": [
    "for fold_idx, (train_dates, val_dates) in enumerate(folds):\n",
    "    print(f\"\\n=== Fold {fold_idx+1} ===\")\n",
    "    \n",
    "    train_idx = X['TS'].isin(train_dates)\n",
    "    val_idx = X['TS'].isin(val_dates)\n",
    "    \n",
    "    X_train_fold = X.loc[train_idx, features].fillna(0)\n",
    "    y_train_fold = y_bin.loc[train_idx].values.ravel()\n",
    "    X_val_fold = X.loc[val_idx, features].fillna(0)\n",
    "    \n",
    "    # Encodage allocation par fold pour éviter leakage\n",
    "    enc = TargetEncoder()\n",
    "    X_train_fold[\"alloc_enc\"] = enc.fit_transform(X.loc[train_idx, \"ALLOCATION\"], y_train_fold)\n",
    "    X_val_fold[\"alloc_enc\"] = enc.transform(X.loc[val_idx, \"ALLOCATION\"])\n",
    "    \n",
    "    for name, model in models.items():\n",
    "        # Standardiser Ridge\n",
    "        if \"Ridge\" in name:\n",
    "            scaler = StandardScaler()\n",
    "            X_train_scaled = scaler.fit_transform(X_train_fold)\n",
    "            X_val_scaled = scaler.transform(X_val_fold)\n",
    "            model.fit(X_train_scaled, y_train_fold)\n",
    "            preds = model.decision_function(X_val_scaled)\n",
    "            oof_preds[name][val_idx] = preds\n",
    "        else:\n",
    "            model.fit(X_train_fold, y_train_fold)\n",
    "            preds = model.predict_proba(X_val_fold)[:,1]\n",
    "            oof_preds[name][val_idx] = preds"
   ]
  },
  {
   "cell_type": "code",
   "execution_count": null,
   "id": "ba5dd2c9",
   "metadata": {},
   "outputs": [
    {
     "name": "stdout",
     "output_type": "stream",
     "text": [
      "Ridge OOF Accuracy: 0.5255\n",
      "kNN OOF Accuracy: 0.5027\n",
      "\n",
      "Ensemble OOF Accuracy: 0.49750062415046187\n"
     ]
    }
   ],
   "source": [
    "for name, preds in oof_preds.items():\n",
    "    y_pred_bin = (preds > 0).astype(int)\n",
    "    acc = accuracy_score(y_bin_values, y_pred_bin)\n",
    "    print(f\"{name} OOF Accuracy: {acc:.4f}\")"
   ]
  }
 ],
 "metadata": {
  "kernelspec": {
   "display_name": "QRT_venv",
   "language": "python",
   "name": "python3"
  },
  "language_info": {
   "codemirror_mode": {
    "name": "ipython",
    "version": 3
   },
   "file_extension": ".py",
   "mimetype": "text/x-python",
   "name": "python",
   "nbconvert_exporter": "python",
   "pygments_lexer": "ipython3",
   "version": "3.12.9"
  }
 },
 "nbformat": 4,
 "nbformat_minor": 5
}
