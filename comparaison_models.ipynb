{
 "cells": [
  {
   "cell_type": "code",
   "execution_count": 409,
   "id": "8ad76756",
   "metadata": {},
   "outputs": [],
   "source": [
    "import pandas as pd\n",
    "import numpy as np\n",
    "import matplotlib.pyplot as plt\n",
    "from sklearn.model_selection import KFold\n",
    "from sklearn.linear_model import RidgeClassifier,Ridge\n",
    "from sklearn.ensemble import RandomForestClassifier,RandomForestRegressor\n",
    "import lightgbm as lgb\n",
    "from sklearn.metrics import accuracy_score\n",
    "from sklearn.preprocessing import StandardScaler\n",
    "import xgboost as xgb\n",
    "from catboost import CatBoostClassifier,CatBoostRegressor\n",
    "from category_encoders import TargetEncoder\n",
    "from lightgbm import LGBMClassifier"
   ]
  },
  {
   "cell_type": "code",
   "execution_count": 410,
   "id": "9918f3cf",
   "metadata": {},
   "outputs": [],
   "source": [
    "X = pd.read_csv('data/X_train.csv',index_col='ROW_ID')\n",
    "X_test_final = pd.read_csv('data/X_test.csv',index_col='ROW_ID')\n",
    "y = pd.read_csv('data/y_train.csv',index_col='ROW_ID')\n",
    "y_bin = (y > 0).astype(int) #binariser l outcome pour faire de la classification et pas regression\n",
    "sample_submission = pd.read_csv('data/sample_submission.csv',index_col='ROW_ID')"
   ]
  },
  {
   "cell_type": "code",
   "execution_count": 411,
   "id": "5f902660",
   "metadata": {},
   "outputs": [],
   "source": [
    "\n",
    "RET_features = [f'RET_{i}' for i in range(1, 20)]\n",
    "SIGNED_VOLUME_features = [f'SIGNED_VOLUME_{i}' for i in range(1, 20)]\n",
    "TURNOVER_features = ['AVG_DAILY_TURNOVER']\n",
    "\n",
    "for i in range(2, 21):\n",
    "    X[f'AVERAGE_PERF_{i}'] = X[RET_features[:i]].mean(1)\n",
    "    X[f'ALLOCATIONS_AVERAGE_PERF_{i}'] = X.groupby('TS')[f'AVERAGE_PERF_{i}'].transform('mean')\n",
    "    X_test_final[f'AVERAGE_PERF_{i}'] = X_test_final[RET_features[:i]].mean(1)\n",
    "    X_test_final[f'ALLOCATIONS_AVERAGE_PERF_{i}'] = X_test_final.groupby('TS')[f'AVERAGE_PERF_{i}'].transform('mean')\n"
   ]
  },
  {
   "cell_type": "code",
   "execution_count": 412,
   "id": "7d533ed9",
   "metadata": {},
   "outputs": [
    {
     "name": "stderr",
     "output_type": "stream",
     "text": [
      "<>:15: SyntaxWarning: invalid escape sequence '\\d'\n",
      "<>:16: SyntaxWarning: invalid escape sequence '\\d'\n",
      "<>:15: SyntaxWarning: invalid escape sequence '\\d'\n",
      "<>:16: SyntaxWarning: invalid escape sequence '\\d'\n",
      "/var/folders/1w/qdnlgvv57jsctw3wf6pt0wlr0000gn/T/ipykernel_32150/2253576490.py:15: SyntaxWarning: invalid escape sequence '\\d'\n",
      "  X[\"TS_num\"] = X[\"TS\"].str.extract(\"(\\d+)\").astype(int)\n",
      "/var/folders/1w/qdnlgvv57jsctw3wf6pt0wlr0000gn/T/ipykernel_32150/2253576490.py:16: SyntaxWarning: invalid escape sequence '\\d'\n",
      "  X_test_final[\"TS_num\"] = X_test_final[\"TS\"].str.extract(\"(\\d+)\").astype(int)\n"
     ]
    }
   ],
   "source": [
    "X[\"RET_VOLATILITY_20\"] = X[RET_features].std(axis=1)\n",
    "X_test_final[\"RET_VOLATILITY_20\"] = X_test_final[RET_features].std(axis=1)\n",
    "\n",
    "X[\"RET_MOMENTUM\"] = X[\"RET_1\"] - X[RET_features].mean(axis=1)\n",
    "X_test_final[\"RET_MOMENTUM\"] = X_test_final[\"RET_1\"] - X_test_final[RET_features].mean(axis=1)\n",
    "\n",
    "# Ratio perf/vol (Sharpe-like)\n",
    "X[\"RET_SHARPE\"] = X[\"RET_MOMENTUM\"] / (X[\"RET_VOLATILITY_20\"] + 1e-6)\n",
    "X_test_final[\"RET_SHARPE\"] = X_test_final[\"RET_MOMENTUM\"] / (X_test_final[\"RET_VOLATILITY_20\"] + 1e-6)\n",
    "\n",
    "# Liquidity volatility\n",
    "X[\"SIGNED_VOLUME_VOL\"] = X[SIGNED_VOLUME_features].std(axis=1)\n",
    "X_test_final[\"SIGNED_VOLUME_VOL\"] = X_test_final[SIGNED_VOLUME_features].std(axis=1)\n",
    "\n",
    "X[\"TS_num\"] = X[\"TS\"].str.extract(\"(\\d+)\").astype(int)\n",
    "X_test_final[\"TS_num\"] = X_test_final[\"TS\"].str.extract(\"(\\d+)\").astype(int)\n",
    "\n",
    "X[\"RET_TREND_5\"] = X[\"RET_20\"] - X[\"RET_15\"]\n",
    "X[\"VOL_TREND_5\"] = X[\"SIGNED_VOLUME_20\"] - X[\"SIGNED_VOLUME_15\"]\n",
    "X_test_final[\"RET_TREND_5\"] = X_test_final[\"RET_20\"] - X_test_final[\"RET_15\"]\n",
    "X_test_final[\"VOL_TREND_5\"] = X_test_final[\"SIGNED_VOLUME_20\"] - X_test_final[\"SIGNED_VOLUME_15\"]\n",
    "\n",
    "# Décalage du dernier retour\n",
    "X[\"RET_LAG1\"] = X[\"RET_1\"]\n",
    "X[\"RET_DIFF1\"] = X[\"RET_1\"] - X[\"RET_2\"]\n",
    "X_test_final[\"RET_LAG1\"] = X_test_final[\"RET_1\"]\n",
    "X_test_final[\"RET_DIFF1\"] = X_test_final[\"RET_1\"] - X_test_final[\"RET_2\"]\n",
    "# Skewness et kurtosis sur les 20 derniers jours\n",
    "X[\"RET_SKEW_20\"] = X[RET_features].skew(axis=1)\n",
    "X[\"RET_KURT_20\"] = X[RET_features].kurt(axis=1)\n",
    "X_test_final[\"RET_SKEW_20\"] = X_test_final[RET_features].skew(axis=1)\n",
    "X_test_final[\"RET_KURT_20\"] = X_test_final[RET_features].kurt(axis=1)\n",
    "# Ratio volume/performance (liquidité relative)\n",
    "X[\"VOL_PERF_RATIO\"] = X[SIGNED_VOLUME_features].mean(axis=1) / (X[RET_features].std(axis=1) + 1e-6)\n",
    "\n",
    "# Moyenne pondérée des performances récentes (momentum lissé)\n",
    "weights = np.linspace(1, 2, 19)\n",
    "X[\"RET_WEIGHTED_MOMENTUM\"] = (X[RET_features].values * weights).sum(axis=1) / weights.sum()\n",
    "\n",
    "X_test_final[\"VOL_PERF_RATIO\"] = X_test_final[SIGNED_VOLUME_features].mean(axis=1) / (X_test_final[RET_features].std(axis=1) + 1e-6)\n",
    "\n",
    "# Moyenne pondérée des performances récentes (momentum lissé)\n",
    "weights = np.linspace(1, 2, 19)\n",
    "X_test_final[\"RET_WEIGHTED_MOMENTUM\"] = (X_test_final[RET_features].values * weights).sum(axis=1) / weights.sum()\n",
    "\n",
    "\n"
   ]
  },
  {
   "cell_type": "code",
   "execution_count": 413,
   "id": "e81ccdc4",
   "metadata": {},
   "outputs": [],
   "source": [
    "from sklearn.linear_model import LinearRegression\n",
    "lags = np.arange(1, 21)\n",
    "model = LinearRegression()\n",
    "\n",
    "trend = []\n",
    "for i in range(len(X)):\n",
    "    y1 = X.loc[i, [f'RET_{j}' for j in range(1, 21)]].values\n",
    "    model.fit(lags.reshape(-1,1), y1)\n",
    "    trend.append(model.coef_[0])\n",
    "X[\"RET_TREND_SLOPE_20\"] = trend\n",
    "\n",
    "X[\"RET_PAST_SKEW\"] = X[[f'RET_{i}' for i in range(1, 6)]].mean(axis=1) - \\\n",
    "                     X[[f'RET_{i}' for i in range(6, 21)]].mean(axis=1)\n",
    "X[\"RET_SHORT_LONG_RATIO\"] = (\n",
    "    X[[f'RET_{i}' for i in range(1, 5)]].mean(axis=1) /\n",
    "    (X[[f'RET_{i}' for i in range(5, 21)]].mean(axis=1) + 1e-6)\n",
    ")\n",
    "rets = X[[f'RET_{i}' for i in range(1, 21)]]\n",
    "X[\"RET_ASYM_VOL\"] = rets.clip(lower=0).std(axis=1) - rets.clip(upper=0).std(axis=1)\n",
    "\n",
    "X[\"rank_perf_20\"] = X.groupby(\"TS\")[\"AVERAGE_PERF_20\"].rank(pct=True)\n"
   ]
  },
  {
   "cell_type": "code",
   "execution_count": 414,
   "id": "45636318",
   "metadata": {},
   "outputs": [
    {
     "data": {
      "text/plain": [
       "'\\'\\'\\nfeatures = [\\n \\'RET_SHARPE\\', \\'RET_15\\', \\'RET_TREND_5\\', \\'AVERAGE_PERF_20\\',\\n \\'ALLOCATIONS_AVERAGE_PERF_5\\', \\'RET_1\\', \\'RET_6\\', \\'SIGNED_VOLUME_3\\',\\n \\'SIGNED_VOLUME_19\\', \\'ALLOCATIONS_AVERAGE_PERF_10\\', \\'ALLOCATIONS_AVERAGE_PERF_3\\',\\n \\'ALLOCATIONS_AVERAGE_PERF_15\\', \\'RET_MOMENTUM\\', \\'alloc_enc\\'\\n]\\n\\n# Target encoding\\nenc = TargetEncoder()\\nX[\"alloc_enc\"] = enc.fit_transform(X[\"ALLOCATION\"], y_bin)\\nX_test_final[\"alloc_enc\"] = enc.transform(X_test_final[\"ALLOCATION\"])\\nX=X[features]\\nX_test_final=X_test_final[features]\\n# Scaling\\nscaler = StandardScaler()\\nX_scaled = scaler.fit_transform(X.fillna(0))\\nX_test_final_scaled = scaler.transform(X_test_final.fillna(0))\\n\\n# Entraînement Ridge sur tout le dataset\\nnew_ridge = RidgeClassifier(alpha=1e-2, fit_intercept=False)\\nnew_ridge.fit(X_scaled, y_bin.values.ravel())\\n\\n# Prédiction\\npreds_ridge = pd.DataFrame(\\n    new_ridge.predict(X_test_final_scaled),\\n    index=sample_submission.index,\\n    columns=[\\'target\\']\\n)\\n(preds_ridge>0).astype(int).to_csv(\\'preds_ridge_boost.csv\\')\\n'"
      ]
     },
     "execution_count": 414,
     "metadata": {},
     "output_type": "execute_result"
    }
   ],
   "source": [
    "'''''\n",
    "features = [\n",
    " 'RET_SHARPE', 'RET_15', 'RET_TREND_5', 'AVERAGE_PERF_20',\n",
    " 'ALLOCATIONS_AVERAGE_PERF_5', 'RET_1', 'RET_6', 'SIGNED_VOLUME_3',\n",
    " 'SIGNED_VOLUME_19', 'ALLOCATIONS_AVERAGE_PERF_10', 'ALLOCATIONS_AVERAGE_PERF_3',\n",
    " 'ALLOCATIONS_AVERAGE_PERF_15', 'RET_MOMENTUM', 'alloc_enc'\n",
    "]\n",
    "\n",
    "# Target encoding\n",
    "enc = TargetEncoder()\n",
    "X[\"alloc_enc\"] = enc.fit_transform(X[\"ALLOCATION\"], y_bin)\n",
    "X_test_final[\"alloc_enc\"] = enc.transform(X_test_final[\"ALLOCATION\"])\n",
    "X=X[features]\n",
    "X_test_final=X_test_final[features]\n",
    "# Scaling\n",
    "scaler = StandardScaler()\n",
    "X_scaled = scaler.fit_transform(X.fillna(0))\n",
    "X_test_final_scaled = scaler.transform(X_test_final.fillna(0))\n",
    "\n",
    "# Entraînement Ridge sur tout le dataset\n",
    "new_ridge = RidgeClassifier(alpha=1e-2, fit_intercept=False)\n",
    "new_ridge.fit(X_scaled, y_bin.values.ravel())\n",
    "\n",
    "# Prédiction\n",
    "preds_ridge = pd.DataFrame(\n",
    "    new_ridge.predict(X_test_final_scaled),\n",
    "    index=sample_submission.index,\n",
    "    columns=['target']\n",
    ")\n",
    "(preds_ridge>0).astype(int).to_csv('preds_ridge_boost.csv')\n",
    "'''''"
   ]
  },
  {
   "cell_type": "code",
   "execution_count": null,
   "id": "068c4bea",
   "metadata": {},
   "outputs": [],
   "source": [
    "features = (\n",
    "    RET_features\n",
    "    + SIGNED_VOLUME_features\n",
    "    + TURNOVER_features\n",
    "    + [f'AVERAGE_PERF_{i}' for i in range(2, 21)]\n",
    "    + [f'ALLOCATIONS_AVERAGE_PERF_{i}' for i in range(2, 21)]\n",
    "    + [\"RET_VOLATILITY_20\", \"RET_MOMENTUM\", \"RET_SHARPE\", \"SIGNED_VOLUME_VOL\",\"VOL_TREND_5\",\"RET_TREND_5\"]\n",
    "    + [\"alloc_enc\"]\n",
    "    +[\"rank_perf_20\"]\n",
    "    +[\"VOL_PERF_RATIO\",\"RET_KURT_20\",\"RET_SKEW_20\",\"RET_DIFF1\",\"RET_LAG1\"]\n",
    "    +[ \"ALLOC_TREND_SLOPE\",\"ALLOC_SHORT_LONG_RATIO\",\"ALLOC_AUTOCORR\",\"ALLOC_SPECTRAL_ENERGY\",\"ALLOC_VOLATILITY\",\"ALLOC_SKEW\"]\n",
    "    +[\"RET_TREND_SLOPE_20\",\"RET_PAST_SKEW\",\"RET_SHORT_LONG_RATIO\",\"RET_ASYM_VOL\"]\n",
    ")"
   ]
  },
  {
   "cell_type": "code",
   "execution_count": 416,
   "id": "315794fb",
   "metadata": {},
   "outputs": [
    {
     "name": "stderr",
     "output_type": "stream",
     "text": [
      "/Users/olivierf/stanford/QRT-Asset-Allocation-Performance-forecasting/QRT_venv/lib/python3.12/site-packages/sklearn/decomposition/_base.py:148: RuntimeWarning: divide by zero encountered in matmul\n",
      "  X_transformed = X @ self.components_.T\n",
      "/Users/olivierf/stanford/QRT-Asset-Allocation-Performance-forecasting/QRT_venv/lib/python3.12/site-packages/sklearn/decomposition/_base.py:148: RuntimeWarning: overflow encountered in matmul\n",
      "  X_transformed = X @ self.components_.T\n",
      "/Users/olivierf/stanford/QRT-Asset-Allocation-Performance-forecasting/QRT_venv/lib/python3.12/site-packages/sklearn/decomposition/_base.py:148: RuntimeWarning: invalid value encountered in matmul\n",
      "  X_transformed = X @ self.components_.T\n",
      "/Users/olivierf/stanford/QRT-Asset-Allocation-Performance-forecasting/QRT_venv/lib/python3.12/site-packages/sklearn/decomposition/_base.py:148: RuntimeWarning: divide by zero encountered in matmul\n",
      "  X_transformed = X @ self.components_.T\n",
      "/Users/olivierf/stanford/QRT-Asset-Allocation-Performance-forecasting/QRT_venv/lib/python3.12/site-packages/sklearn/decomposition/_base.py:148: RuntimeWarning: overflow encountered in matmul\n",
      "  X_transformed = X @ self.components_.T\n",
      "/Users/olivierf/stanford/QRT-Asset-Allocation-Performance-forecasting/QRT_venv/lib/python3.12/site-packages/sklearn/decomposition/_base.py:148: RuntimeWarning: invalid value encountered in matmul\n",
      "  X_transformed = X @ self.components_.T\n"
     ]
    }
   ],
   "source": [
    "agg_cols = [c for c in X.columns if c.startswith(\"ALLOCATIONS_AVERAGE_PERF_\")]\n",
    "from sklearn.decomposition import PCA\n",
    "pca = PCA(n_components=4)\n",
    "pca.fit(X[agg_cols].fillna(0))\n",
    "X_pcs = pca.transform(X[agg_cols].fillna(0))\n",
    "X_test_pcs = pca.transform(X_test_final[agg_cols].fillna(0))\n",
    "for i in range(X_pcs.shape[1]):\n",
    "    X[f\"allocpc_{i+1}\"] = X_pcs[:, i]\n",
    "    features.append(f\"allocpc_{i+1}\")\n",
    "\n"
   ]
  },
  {
   "cell_type": "code",
   "execution_count": 417,
   "id": "ba76cd67",
   "metadata": {},
   "outputs": [],
   "source": [
    "alloc_col = \"ALLOCATION\"\n",
    "ret_cols = [f'RET_{i}' for i in range(1, 21)]\n",
    "def compute_time_features_for_allocation(df_alloc):\n",
    "    mean_rets = df_alloc[ret_cols].mean()\n",
    "\n",
    "    x = np.arange(1, 21).reshape(-1, 1)\n",
    "    model = LinearRegression().fit(x, mean_rets.values)\n",
    "    slope = model.coef_[0]\n",
    "\n",
    "    short_mean = mean_rets[:5].mean()\n",
    "    long_mean = mean_rets[5:].mean()\n",
    "    short_long_ratio = short_mean / (long_mean + 1e-6)\n",
    "\n",
    "    autocorr = np.corrcoef(mean_rets[:-1], mean_rets[1:])[0, 1]\n",
    "\n",
    "    fft_vals = np.fft.rfft(mean_rets - mean_rets.mean())\n",
    "    spectral_energy = np.sum(np.abs(fft_vals)**2)\n",
    "\n",
    "    # 5. Volatilité et asymétrie\n",
    "    volatility = mean_rets.std()\n",
    "    skew = ((mean_rets - mean_rets.mean())**3).mean() / (volatility**3 + 1e-6)\n",
    "\n",
    "    return pd.Series({\n",
    "        \"ALLOC_TREND_SLOPE\": slope,\n",
    "        \"ALLOC_SHORT_LONG_RATIO\": short_long_ratio,\n",
    "        \"ALLOC_AUTOCORR\": autocorr,\n",
    "        \"ALLOC_SPECTRAL_ENERGY\": spectral_energy,\n",
    "        \"ALLOC_VOLATILITY\": volatility,\n",
    "        \"ALLOC_SKEW\": skew\n",
    "    })"
   ]
  },
  {
   "cell_type": "code",
   "execution_count": 418,
   "id": "08a0707f",
   "metadata": {},
   "outputs": [],
   "source": [
    "unique_dates = np.sort(X['TS'].unique())\n",
    "n = len(unique_dates)\n",
    "train_dates = unique_dates[: int(0.8 * n)]   # 80% train\n",
    "test_dates = unique_dates[int(0.8 * n):]     # 20% test\n",
    "\n",
    "train_idx = X['TS'].isin(train_dates)\n",
    "test_idx = X['TS'].isin(test_dates)\n",
    "\n",
    "X_train, y_train_bin, y_train_cont = X.loc[train_idx, :], y_bin.loc[train_idx], y.loc[train_idx]\n",
    "X_test, y_test_bin, y_test_cont = X.loc[test_idx, :], y_bin.loc[test_idx], y.loc[test_idx]\n"
   ]
  },
  {
   "cell_type": "code",
   "execution_count": 419,
   "id": "898cfd26",
   "metadata": {},
   "outputs": [
    {
     "name": "stderr",
     "output_type": "stream",
     "text": [
      "/var/folders/1w/qdnlgvv57jsctw3wf6pt0wlr0000gn/T/ipykernel_32150/1431446780.py:2: SettingWithCopyWarning: \n",
      "A value is trying to be set on a copy of a slice from a DataFrame.\n",
      "Try using .loc[row_indexer,col_indexer] = value instead\n",
      "\n",
      "See the caveats in the documentation: https://pandas.pydata.org/pandas-docs/stable/user_guide/indexing.html#returning-a-view-versus-a-copy\n",
      "  X_train[\"alloc_enc\"] = enc.fit_transform(X_train[\"ALLOCATION\"], y_train_bin)\n",
      "/var/folders/1w/qdnlgvv57jsctw3wf6pt0wlr0000gn/T/ipykernel_32150/1431446780.py:3: SettingWithCopyWarning: \n",
      "A value is trying to be set on a copy of a slice from a DataFrame.\n",
      "Try using .loc[row_indexer,col_indexer] = value instead\n",
      "\n",
      "See the caveats in the documentation: https://pandas.pydata.org/pandas-docs/stable/user_guide/indexing.html#returning-a-view-versus-a-copy\n",
      "  X_test[\"alloc_enc\"] = enc.transform(X_test[\"ALLOCATION\"], y_test_bin)\n"
     ]
    }
   ],
   "source": [
    "enc = TargetEncoder()\n",
    "X_train[\"alloc_enc\"] = enc.fit_transform(X_train[\"ALLOCATION\"], y_train_bin)\n",
    "X_test[\"alloc_enc\"] = enc.transform(X_test[\"ALLOCATION\"], y_test_bin)\n"
   ]
  },
  {
   "cell_type": "code",
   "execution_count": 420,
   "id": "f5eab264",
   "metadata": {},
   "outputs": [
    {
     "name": "stderr",
     "output_type": "stream",
     "text": [
      "/var/folders/1w/qdnlgvv57jsctw3wf6pt0wlr0000gn/T/ipykernel_32150/139727217.py:1: FutureWarning: DataFrameGroupBy.apply operated on the grouping columns. This behavior is deprecated, and in a future version of pandas the grouping columns will be excluded from the operation. Either pass `include_groups=False` to exclude the groupings or explicitly select the grouping columns after groupby to silence this warning.\n",
      "  alloc_features = X_train.groupby(alloc_col).apply(compute_time_features_for_allocation).reset_index()\n",
      "/var/folders/1w/qdnlgvv57jsctw3wf6pt0wlr0000gn/T/ipykernel_32150/139727217.py:4: FutureWarning: DataFrameGroupBy.apply operated on the grouping columns. This behavior is deprecated, and in a future version of pandas the grouping columns will be excluded from the operation. Either pass `include_groups=False` to exclude the groupings or explicitly select the grouping columns after groupby to silence this warning.\n",
      "  alloc_features_test = X_test.groupby(alloc_col).apply(compute_time_features_for_allocation).reset_index()\n"
     ]
    }
   ],
   "source": [
    "alloc_features = X_train.groupby(alloc_col).apply(compute_time_features_for_allocation).reset_index()\n",
    "X_train = X_train.merge(alloc_features, on=alloc_col, how=\"left\")\n",
    "\n",
    "alloc_features_test = X_test.groupby(alloc_col).apply(compute_time_features_for_allocation).reset_index()\n",
    "X_test = X_test.merge(alloc_features_test, on=alloc_col, how=\"left\")\n"
   ]
  },
  {
   "cell_type": "code",
   "execution_count": 421,
   "id": "321d30be",
   "metadata": {},
   "outputs": [],
   "source": [
    "scaler = StandardScaler()\n",
    "X_train_scaled = scaler.fit_transform(X_train[features].fillna(0))\n",
    "X_test_scaled = scaler.transform(X_test[features].fillna(0))"
   ]
  },
  {
   "cell_type": "code",
   "execution_count": 428,
   "id": "932e306e",
   "metadata": {},
   "outputs": [
    {
     "name": "stdout",
     "output_type": "stream",
     "text": [
      "✅ Test Accuracy (RidgeClassifier): 0.5256\n",
      "\n",
      "🔍 Top 10 feature importances:\n"
     ]
    },
    {
     "name": "stderr",
     "output_type": "stream",
     "text": [
      "/Users/olivierf/stanford/QRT-Asset-Allocation-Performance-forecasting/QRT_venv/lib/python3.12/site-packages/sklearn/linear_model/_ridge.py:1306: DataConversionWarning: A column-vector y was passed when a 1d array was expected. Please change the shape of y to (n_samples, ), for example using ravel().\n",
      "  y = column_or_1d(y, warn=True)\n",
      "/Users/olivierf/stanford/QRT-Asset-Allocation-Performance-forecasting/QRT_venv/lib/python3.12/site-packages/sklearn/utils/extmath.py:203: RuntimeWarning: divide by zero encountered in matmul\n",
      "  ret = a @ b\n",
      "/Users/olivierf/stanford/QRT-Asset-Allocation-Performance-forecasting/QRT_venv/lib/python3.12/site-packages/sklearn/utils/extmath.py:203: RuntimeWarning: overflow encountered in matmul\n",
      "  ret = a @ b\n",
      "/Users/olivierf/stanford/QRT-Asset-Allocation-Performance-forecasting/QRT_venv/lib/python3.12/site-packages/sklearn/utils/extmath.py:203: RuntimeWarning: invalid value encountered in matmul\n",
      "  ret = a @ b\n",
      "/Users/olivierf/stanford/QRT-Asset-Allocation-Performance-forecasting/QRT_venv/lib/python3.12/site-packages/sklearn/utils/extmath.py:203: RuntimeWarning: divide by zero encountered in matmul\n",
      "  ret = a @ b\n",
      "/Users/olivierf/stanford/QRT-Asset-Allocation-Performance-forecasting/QRT_venv/lib/python3.12/site-packages/sklearn/utils/extmath.py:203: RuntimeWarning: overflow encountered in matmul\n",
      "  ret = a @ b\n",
      "/Users/olivierf/stanford/QRT-Asset-Allocation-Performance-forecasting/QRT_venv/lib/python3.12/site-packages/sklearn/utils/extmath.py:203: RuntimeWarning: invalid value encountered in matmul\n",
      "  ret = a @ b\n"
     ]
    }
   ],
   "source": [
    "results_classif = {}\n",
    "\n",
    "name, model=\"RidgeClassifier\",RidgeClassifier(alpha=1e-2, fit_intercept=False)\n",
    "model.fit(X_train_scaled, y_train_bin)\n",
    "y_pred = model.predict(X_test_scaled)\n",
    "\n",
    "\n",
    "# Évaluation\n",
    "acc = accuracy_score(y_test_bin, y_pred)\n",
    "results_classif[name] = acc\n",
    "print(f\"✅ Test Accuracy ({name}): {acc:.4f}\")\n",
    "\n",
    "# Importance des features\n",
    "print(\"\\n🔍 Top 10 feature importances:\")\n",
    "\n",
    "if hasattr(model, \"feature_importances_\"):\n",
    "    importances = model.feature_importances_\n",
    "elif hasattr(model, \"coef_\"):\n",
    "    importances = np.abs(model.coef_.ravel())  # abs pour Ridge\n",
    "\n",
    "importance_df = pd.DataFrame({\n",
    "    \"feature\": features,\n",
    "    \"importance\": importances\n",
    "}).sort_values(\"importance\", ascending=False)\n",
    "top_half = importance_df.iloc[:importance_df.shape[0] // 2][\"feature\"].tolist()\n",
    "best_ridge = top_half\n",
    "\n"
   ]
  },
  {
   "cell_type": "code",
   "execution_count": 429,
   "id": "26fb7483",
   "metadata": {},
   "outputs": [],
   "source": [
    "scaler = StandardScaler()\n",
    "features=best_ridge\n",
    "X_train_scaled = scaler.fit_transform(X_train[features].fillna(0))\n",
    "X_test_scaled = scaler.transform(X_test[features].fillna(0))"
   ]
  },
  {
   "cell_type": "code",
   "execution_count": 430,
   "id": "0be3797e",
   "metadata": {},
   "outputs": [],
   "source": [
    "models_classif = {\n",
    "    \"RidgeClassifier\": RidgeClassifier(alpha=1e-2, fit_intercept=False),\n",
    "    '''\n",
    "    \"RandomForest\": RandomForestClassifier(n_estimators=200, max_depth=8, random_state=42, n_jobs=-1),\n",
    "    \n",
    "    \"LightGBM\": lgb.LGBMClassifier(\n",
    "        n_estimators=500,\n",
    "        learning_rate=0.05,\n",
    "        num_leaves=31,\n",
    "        subsample=0.8,\n",
    "        colsample_bytree=0.8,\n",
    "        random_state=42,\n",
    "        n_jobs=-1,\n",
    "    ),\n",
    "    \"XGBoost\": xgb.XGBClassifier(\n",
    "        n_estimators=500,\n",
    "        max_depth=5,\n",
    "        learning_rate=0.05,\n",
    "        subsample=0.8,\n",
    "        colsample_bytree=0.8,\n",
    "        random_state=42,\n",
    "        n_jobs=-1,\n",
    "        use_label_encoder=False,\n",
    "        eval_metric='logloss',\n",
    "    ),'''\n",
    "    \n",
    "    \"CatBoost\": CatBoostClassifier(\n",
    "        iterations=500,\n",
    "        depth=6,\n",
    "        learning_rate=0.05,\n",
    "        random_seed=42,\n",
    "        verbose=0\n",
    "    )\n",
    "}"
   ]
  },
  {
   "cell_type": "code",
   "execution_count": 431,
   "id": "22d48a4e",
   "metadata": {},
   "outputs": [],
   "source": [
    "models_classif = {\n",
    "    \"RidgeClassifier\": RidgeClassifier(alpha=1e-2, fit_intercept=False),\n",
    "    \"CatBoost\": CatBoostClassifier(\n",
    "        iterations=500,\n",
    "        depth=6,\n",
    "        learning_rate=0.05,\n",
    "        random_seed=42,\n",
    "        verbose=0\n",
    "    )\n",
    "}"
   ]
  },
  {
   "cell_type": "code",
   "execution_count": 432,
   "id": "33c81280",
   "metadata": {},
   "outputs": [
    {
     "name": "stdout",
     "output_type": "stream",
     "text": [
      "\n",
      "==============================\n",
      "Training RidgeClassifier (classification)...\n",
      "==============================\n",
      "✅ Test Accuracy (RidgeClassifier): 0.5293\n",
      "\n",
      "🔍 Top 10 feature importances:\n",
      "                        feature  importance\n",
      "0                     alloc_enc    0.051395\n",
      "36                 RET_MOMENTUM    0.038521\n",
      "2    ALLOCATIONS_AVERAGE_PERF_9    0.036970\n",
      "1   ALLOCATIONS_AVERAGE_PERF_10    0.036792\n",
      "3   ALLOCATIONS_AVERAGE_PERF_14    0.035472\n",
      "5   ALLOCATIONS_AVERAGE_PERF_16    0.035451\n",
      "4   ALLOCATIONS_AVERAGE_PERF_13    0.031805\n",
      "38                     RET_LAG1    0.031592\n",
      "37                        RET_1    0.031592\n",
      "6   ALLOCATIONS_AVERAGE_PERF_17    0.028530\n",
      "8                    RET_SHARPE    0.021716\n",
      "7   ALLOCATIONS_AVERAGE_PERF_11    0.020738\n",
      "10                       RET_15    0.019822\n",
      "9    ALLOCATIONS_AVERAGE_PERF_6    0.015833\n",
      "18                  RET_TREND_5    0.014912\n",
      "21  ALLOCATIONS_AVERAGE_PERF_15    0.014497\n",
      "12  ALLOCATIONS_AVERAGE_PERF_18    0.014124\n",
      "14  ALLOCATIONS_AVERAGE_PERF_20    0.012575\n",
      "15  ALLOCATIONS_AVERAGE_PERF_19    0.012575\n",
      "13   ALLOCATIONS_AVERAGE_PERF_8    0.011974\n"
     ]
    },
    {
     "name": "stderr",
     "output_type": "stream",
     "text": [
      "/Users/olivierf/stanford/QRT-Asset-Allocation-Performance-forecasting/QRT_venv/lib/python3.12/site-packages/sklearn/linear_model/_ridge.py:1306: DataConversionWarning: A column-vector y was passed when a 1d array was expected. Please change the shape of y to (n_samples, ), for example using ravel().\n",
      "  y = column_or_1d(y, warn=True)\n",
      "/Users/olivierf/stanford/QRT-Asset-Allocation-Performance-forecasting/QRT_venv/lib/python3.12/site-packages/sklearn/utils/extmath.py:203: RuntimeWarning: divide by zero encountered in matmul\n",
      "  ret = a @ b\n",
      "/Users/olivierf/stanford/QRT-Asset-Allocation-Performance-forecasting/QRT_venv/lib/python3.12/site-packages/sklearn/utils/extmath.py:203: RuntimeWarning: overflow encountered in matmul\n",
      "  ret = a @ b\n",
      "/Users/olivierf/stanford/QRT-Asset-Allocation-Performance-forecasting/QRT_venv/lib/python3.12/site-packages/sklearn/utils/extmath.py:203: RuntimeWarning: invalid value encountered in matmul\n",
      "  ret = a @ b\n",
      "/Users/olivierf/stanford/QRT-Asset-Allocation-Performance-forecasting/QRT_venv/lib/python3.12/site-packages/sklearn/utils/extmath.py:203: RuntimeWarning: divide by zero encountered in matmul\n",
      "  ret = a @ b\n",
      "/Users/olivierf/stanford/QRT-Asset-Allocation-Performance-forecasting/QRT_venv/lib/python3.12/site-packages/sklearn/utils/extmath.py:203: RuntimeWarning: overflow encountered in matmul\n",
      "  ret = a @ b\n",
      "/Users/olivierf/stanford/QRT-Asset-Allocation-Performance-forecasting/QRT_venv/lib/python3.12/site-packages/sklearn/utils/extmath.py:203: RuntimeWarning: invalid value encountered in matmul\n",
      "  ret = a @ b\n"
     ]
    },
    {
     "data": {
      "image/png": "[encoded data removed]",
      "text/plain": [
       "<Figure size 600x400 with 1 Axes>"
      ]
     },
     "metadata": {},
     "output_type": "display_data"
    },
    {
     "name": "stdout",
     "output_type": "stream",
     "text": [
      "\n",
      "==============================\n",
      "Training CatBoost (classification)...\n",
      "==============================\n",
      "✅ Test Accuracy (CatBoost): 0.5243\n",
      "\n",
      "🔍 Top 10 feature importances:\n",
      "                        feature  importance\n",
      "9    ALLOCATIONS_AVERAGE_PERF_6    5.006798\n",
      "32   ALLOCATIONS_AVERAGE_PERF_4    4.772342\n",
      "34                    allocpc_2    4.565580\n",
      "1   ALLOCATIONS_AVERAGE_PERF_10    4.424352\n",
      "0                     alloc_enc    4.280696\n",
      "13   ALLOCATIONS_AVERAGE_PERF_8    4.106262\n",
      "2    ALLOCATIONS_AVERAGE_PERF_9    4.058036\n",
      "7   ALLOCATIONS_AVERAGE_PERF_11    3.816058\n",
      "5   ALLOCATIONS_AVERAGE_PERF_16    3.598966\n",
      "11   ALLOCATIONS_AVERAGE_PERF_7    3.525268\n",
      "6   ALLOCATIONS_AVERAGE_PERF_17    3.059141\n",
      "26  ALLOCATIONS_AVERAGE_PERF_12    2.986560\n",
      "4   ALLOCATIONS_AVERAGE_PERF_13    2.977655\n",
      "21  ALLOCATIONS_AVERAGE_PERF_15    2.792549\n",
      "3   ALLOCATIONS_AVERAGE_PERF_14    2.784669\n",
      "17                       RET_11    2.694163\n",
      "25                        RET_9    2.522914\n",
      "12  ALLOCATIONS_AVERAGE_PERF_18    2.515560\n",
      "14  ALLOCATIONS_AVERAGE_PERF_20    2.448684\n",
      "33                       RET_14    2.221346\n"
     ]
    },
    {
     "data": {
      "image/png": "[encoded data removed]",
      "text/plain": [
       "<Figure size 600x400 with 1 Axes>"
      ]
     },
     "metadata": {},
     "output_type": "display_data"
    }
   ],
   "source": [
    "results_classif = {}\n",
    "\n",
    "for name, model in models_classif.items():\n",
    "    print(f\"\\n{'='*30}\\nTraining {name} (classification)...\\n{'='*30}\")\n",
    "    \n",
    "    # Entraînement\n",
    "    if \"Ridge\" in name:\n",
    "        model.fit(X_train_scaled, y_train_bin)\n",
    "        y_pred = model.predict(X_test_scaled)\n",
    "    else:\n",
    "        model.fit(X_train[features].fillna(0), y_train_bin.values.ravel())\n",
    "        y_pred = model.predict(X_test[features].fillna(0))\n",
    "    \n",
    "    # Évaluation\n",
    "    acc = accuracy_score(y_test_bin, y_pred)\n",
    "    results_classif[name] = acc\n",
    "    print(f\"✅ Test Accuracy ({name}): {acc:.4f}\")\n",
    "    \n",
    "    # Importance des features\n",
    "    print(\"\\n🔍 Top 10 feature importances:\")\n",
    "    try:\n",
    "        if hasattr(model, \"feature_importances_\"):\n",
    "            importances = model.feature_importances_\n",
    "        elif hasattr(model, \"coef_\"):\n",
    "            importances = np.abs(model.coef_.ravel())  # abs pour Ridge\n",
    "        else:\n",
    "            raise AttributeError(\"No feature importance attribute found.\")\n",
    "        \n",
    "        importance_df = pd.DataFrame({\n",
    "            \"feature\": features,\n",
    "            \"importance\": importances\n",
    "        }).sort_values(\"importance\", ascending=False)\n",
    "        top_half = importance_df.iloc[:importance_df.shape[0] // 2][\"feature\"].tolist()\n",
    "\n",
    "        if \"Ridge\" in name:\n",
    "            best_ridge = top_half\n",
    "        elif \"Random\" in name:\n",
    "            best_rf = top_half\n",
    "        print(importance_df.head(20))\n",
    "        \n",
    "        # Plot\n",
    "        plt.figure(figsize=(6, 4))\n",
    "        plt.barh(importance_df[\"feature\"].head(20)[::-1],\n",
    "                 importance_df[\"importance\"].head(20)[::-1])\n",
    "        plt.title(f\"Top 10 Features - {name}\")\n",
    "        plt.xlabel(\"Importance\")\n",
    "        plt.tight_layout()\n",
    "        plt.show()\n",
    "    \n",
    "    except Exception as e:\n",
    "        print(f\"⚠️ Could not compute feature importances for {name}: {e}\")\n",
    "\n"
   ]
  },
  {
   "cell_type": "code",
   "execution_count": 433,
   "id": "165b80ee",
   "metadata": {},
   "outputs": [
    {
     "name": "stdout",
     "output_type": "stream",
     "text": [
      "\n",
      "Classification results (arrondi à 0.01):\n",
      "{'RidgeClassifier': 0.529, 'CatBoost': 0.524}\n"
     ]
    }
   ],
   "source": [
    "# Arrondir à 0.01\n",
    "results_classif_rounded = {k: round(v, 3) for k, v in results_classif.items()}\n",
    "\n",
    "print(\"\\nClassification results (arrondi à 0.01):\")\n",
    "print(results_classif_rounded)\n"
   ]
  }
 ],
 "metadata": {
  "kernelspec": {
   "display_name": "QRT_venv",
   "language": "python",
   "name": "python3"
  },
  "language_info": {
   "codemirror_mode": {
    "name": "ipython",
    "version": 3
   },
   "file_extension": ".py",
   "mimetype": "text/x-python",
   "name": "python",
   "nbconvert_exporter": "python",
   "pygments_lexer": "ipython3",
   "version": "3.12.9"
  }
 },
 "nbformat": 4,
 "nbformat_minor": 5
}
