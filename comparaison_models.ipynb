{
 "cells": [
  {
   "cell_type": "code",
   "execution_count": 27,
   "id": "8ad76756",
   "metadata": {},
   "outputs": [],
   "source": [
    "import pandas as pd\n",
    "import numpy as np\n",
    "import matplotlib.pyplot as plt\n",
    "\n",
    "from sklearn.linear_model import RidgeClassifier,Ridge\n",
    "from sklearn.ensemble import RandomForestClassifier,RandomForestRegressor\n",
    "import lightgbm as lgb\n",
    "from sklearn.metrics import accuracy_score\n",
    "from sklearn.preprocessing import StandardScaler\n",
    "import xgboost as xgb\n",
    "from catboost import CatBoostClassifier,CatBoostRegressor"
   ]
  },
  {
   "cell_type": "code",
   "execution_count": 28,
   "id": "9918f3cf",
   "metadata": {},
   "outputs": [],
   "source": [
    "X = pd.read_csv('data/X_train.csv',index_col='ROW_ID')\n",
    "X_test_final = pd.read_csv('data/X_test.csv',index_col='ROW_ID')\n",
    "y = pd.read_csv('data/y_train.csv',index_col='ROW_ID')\n",
    "y_bin = (y > 0).astype(int) #binariser l outcome pour faire de la classification et pas regression\n",
    "sample_submission = pd.read_csv('data/sample_submission.csv',index_col='ROW_ID')"
   ]
  },
  {
   "cell_type": "code",
   "execution_count": 29,
   "id": "5f902660",
   "metadata": {},
   "outputs": [],
   "source": [
    "\n",
    "RET_features = [f'RET_{i}' for i in range(1, 20)]\n",
    "SIGNED_VOLUME_features = [f'SIGNED_VOLUME_{i}' for i in range(1, 20)]\n",
    "TURNOVER_features = ['AVG_DAILY_TURNOVER']\n",
    "\n",
    "for i in [3, 5, 10, 15, 20]:\n",
    "    X[f'AVERAGE_PERF_{i}'] = X[RET_features[:i]].mean(1)\n",
    "    X[f'ALLOCATIONS_AVERAGE_PERF_{i}'] = X.groupby('TS')[f'AVERAGE_PERF_{i}'].transform('mean')\n",
    "    X_test_final[f'AVERAGE_PERF_{i}'] = X_test_final[RET_features[:i]].mean(1)\n",
    "    X_test_final[f'ALLOCATIONS_AVERAGE_PERF_{i}'] = X_test_final.groupby('TS')[f'AVERAGE_PERF_{i}'].transform('mean')\n",
    "\n",
    "features = RET_features + SIGNED_VOLUME_features + TURNOVER_features\n",
    "features += [f'AVERAGE_PERF_{i}' for i in [3, 5, 10, 15, 20]]\n",
    "features += [f'ALLOCATIONS_AVERAGE_PERF_{i}' for i in [3, 5, 10, 15, 20]]"
   ]
  },
  {
   "cell_type": "code",
   "execution_count": 30,
   "id": "08a0707f",
   "metadata": {},
   "outputs": [],
   "source": [
    "unique_dates = np.sort(X['TS'].unique())\n",
    "n = len(unique_dates)\n",
    "train_dates = unique_dates[: int(0.8 * n)]   # 80% train\n",
    "test_dates = unique_dates[int(0.8 * n):]     # 20% test\n",
    "\n",
    "train_idx = X['TS'].isin(train_dates)\n",
    "test_idx = X['TS'].isin(test_dates)\n",
    "\n",
    "X_train, y_train_bin, y_train_cont = X.loc[train_idx, features], y_bin.loc[train_idx], y.loc[train_idx]\n",
    "X_test, y_test_bin, y_test_cont = X.loc[test_idx, features], y_bin.loc[test_idx], y.loc[test_idx]\n"
   ]
  },
  {
   "cell_type": "code",
   "execution_count": 31,
   "id": "321d30be",
   "metadata": {},
   "outputs": [],
   "source": [
    "scaler = StandardScaler()\n",
    "X_train_scaled = scaler.fit_transform(X_train.fillna(0))\n",
    "X_test_scaled = scaler.transform(X_test.fillna(0))"
   ]
  },
  {
   "cell_type": "code",
   "execution_count": 32,
   "id": "0be3797e",
   "metadata": {},
   "outputs": [],
   "source": [
    "models_classif = {\n",
    "    \"RidgeClassifier\": RidgeClassifier(alpha=1e-2, fit_intercept=False),\n",
    "    \"RandomForest\": RandomForestClassifier(n_estimators=200, max_depth=8, random_state=42, n_jobs=-1),\n",
    "    \"LightGBM\": lgb.LGBMClassifier(\n",
    "        n_estimators=500,\n",
    "        learning_rate=0.05,\n",
    "        num_leaves=31,\n",
    "        subsample=0.8,\n",
    "        colsample_bytree=0.8,\n",
    "        random_state=42,\n",
    "        n_jobs=-1,\n",
    "    ),\n",
    "    \"XGBoost\": xgb.XGBClassifier(\n",
    "        n_estimators=500,\n",
    "        max_depth=5,\n",
    "        learning_rate=0.05,\n",
    "        subsample=0.8,\n",
    "        colsample_bytree=0.8,\n",
    "        random_state=42,\n",
    "        n_jobs=-1,\n",
    "        use_label_encoder=False,\n",
    "        eval_metric='logloss',\n",
    "    ),\n",
    "    \"CatBoost\": CatBoostClassifier(\n",
    "        iterations=500,\n",
    "        depth=6,\n",
    "        learning_rate=0.05,\n",
    "        random_seed=42,\n",
    "        verbose=0\n",
    "    )\n",
    "}"
   ]
  },
  {
   "cell_type": "code",
   "execution_count": 33,
   "id": "bb40b6f1",
   "metadata": {},
   "outputs": [],
   "source": [
    "models_regress = {\n",
    "    \"Ridge\": Ridge(alpha=1e-2, fit_intercept=False),\n",
    "    \"RandomForestRegressor\": RandomForestRegressor(n_estimators=200, max_depth=8, random_state=42, n_jobs=-1),\n",
    "    \"LightGBMRegressor\": lgb.LGBMRegressor(\n",
    "        n_estimators=500,\n",
    "        learning_rate=0.05,\n",
    "        num_leaves=31,\n",
    "        subsample=0.8,\n",
    "        colsample_bytree=0.8,\n",
    "        random_state=42,\n",
    "        n_jobs=-1,\n",
    "    ),\n",
    "    \"XGBoostRegressor\": xgb.XGBRegressor(\n",
    "        n_estimators=500,\n",
    "        max_depth=5,\n",
    "        learning_rate=0.05,\n",
    "        subsample=0.8,\n",
    "        colsample_bytree=0.8,\n",
    "        random_state=42,\n",
    "        n_jobs=-1\n",
    "    ),\n",
    "    \"CatBoostRegressor\": CatBoostRegressor(\n",
    "        iterations=500,\n",
    "        depth=6,\n",
    "        learning_rate=0.05,\n",
    "        random_seed=42,\n",
    "        verbose=0\n",
    "    )\n",
    "}"
   ]
  },
  {
   "cell_type": "code",
   "execution_count": 35,
   "id": "33c81280",
   "metadata": {},
   "outputs": [
    {
     "name": "stdout",
     "output_type": "stream",
     "text": [
      "\n",
      "==============================\n",
      "Training RidgeClassifier (classification)...\n",
      "==============================\n",
      "✅ Test Accuracy (RidgeClassifier): 0.5175\n",
      "\n",
      "==============================\n",
      "Training RandomForest (classification)...\n",
      "==============================\n"
     ]
    },
    {
     "name": "stderr",
     "output_type": "stream",
     "text": [
      "/Users/olivierf/stanford/QRT-Asset-Allocation-Performance-forecasting/QRT_venv/lib/python3.12/site-packages/sklearn/linear_model/_ridge.py:1306: DataConversionWarning: A column-vector y was passed when a 1d array was expected. Please change the shape of y to (n_samples, ), for example using ravel().\n",
      "  y = column_or_1d(y, warn=True)\n",
      "/Users/olivierf/stanford/QRT-Asset-Allocation-Performance-forecasting/QRT_venv/lib/python3.12/site-packages/sklearn/utils/extmath.py:203: RuntimeWarning: divide by zero encountered in matmul\n",
      "  ret = a @ b\n",
      "/Users/olivierf/stanford/QRT-Asset-Allocation-Performance-forecasting/QRT_venv/lib/python3.12/site-packages/sklearn/utils/extmath.py:203: RuntimeWarning: overflow encountered in matmul\n",
      "  ret = a @ b\n",
      "/Users/olivierf/stanford/QRT-Asset-Allocation-Performance-forecasting/QRT_venv/lib/python3.12/site-packages/sklearn/utils/extmath.py:203: RuntimeWarning: invalid value encountered in matmul\n",
      "  ret = a @ b\n",
      "/Users/olivierf/stanford/QRT-Asset-Allocation-Performance-forecasting/QRT_venv/lib/python3.12/site-packages/sklearn/utils/extmath.py:203: RuntimeWarning: divide by zero encountered in matmul\n",
      "  ret = a @ b\n",
      "/Users/olivierf/stanford/QRT-Asset-Allocation-Performance-forecasting/QRT_venv/lib/python3.12/site-packages/sklearn/utils/extmath.py:203: RuntimeWarning: overflow encountered in matmul\n",
      "  ret = a @ b\n",
      "/Users/olivierf/stanford/QRT-Asset-Allocation-Performance-forecasting/QRT_venv/lib/python3.12/site-packages/sklearn/utils/extmath.py:203: RuntimeWarning: invalid value encountered in matmul\n",
      "  ret = a @ b\n"
     ]
    },
    {
     "name": "stdout",
     "output_type": "stream",
     "text": [
      "✅ Test Accuracy (RandomForest): 0.5178\n",
      "\n",
      "==============================\n",
      "Training LightGBM (classification)...\n",
      "==============================\n",
      "[LightGBM] [Info] Number of positive: 72375, number of negative: 71795\n",
      "[LightGBM] [Info] Auto-choosing col-wise multi-threading, the overhead of testing was 0.016942 seconds.\n",
      "You can set `force_col_wise=true` to remove the overhead.\n",
      "[LightGBM] [Info] Total Bins 12495\n",
      "[LightGBM] [Info] Number of data points in the train set: 144170, number of used features: 49\n",
      "[LightGBM] [Info] [binary:BoostFromScore]: pavg=0.502012 -> initscore=0.008046\n",
      "[LightGBM] [Info] Start training from score 0.008046\n",
      "✅ Test Accuracy (LightGBM): 0.5133\n",
      "\n",
      "==============================\n",
      "Training XGBoost (classification)...\n",
      "==============================\n"
     ]
    },
    {
     "name": "stderr",
     "output_type": "stream",
     "text": [
      "/Users/olivierf/stanford/QRT-Asset-Allocation-Performance-forecasting/QRT_venv/lib/python3.12/site-packages/xgboost/training.py:183: UserWarning: [13:06:48] WARNING: /Users/runner/work/xgboost/xgboost/src/learner.cc:738: \n",
      "Parameters: { \"use_label_encoder\" } are not used.\n",
      "\n",
      "  bst.update(dtrain, iteration=i, fobj=obj)\n"
     ]
    },
    {
     "name": "stdout",
     "output_type": "stream",
     "text": [
      "✅ Test Accuracy (XGBoost): 0.5168\n",
      "\n",
      "==============================\n",
      "Training CatBoost (classification)...\n",
      "==============================\n",
      "✅ Test Accuracy (CatBoost): 0.5176\n"
     ]
    }
   ],
   "source": [
    "results_classif = {}\n",
    "for name, model in models_classif.items():\n",
    "    print(f\"\\n{'='*30}\\nTraining {name} (classification)...\\n{'='*30}\")\n",
    "    if \"Ridge\" in name:\n",
    "        model.fit(X_train_scaled, y_train_bin)\n",
    "        y_pred = model.predict(X_test_scaled)\n",
    "    else:\n",
    "        model.fit(X_train.fillna(0), y_train_bin.values.ravel())\n",
    "        y_pred = model.predict(X_test.fillna(0))\n",
    "    \n",
    "    acc = accuracy_score(y_test_bin, y_pred)\n",
    "    results_classif[name] = acc\n",
    "    print(f\"✅ Test Accuracy ({name}): {acc:.4f}\")\n"
   ]
  },
  {
   "cell_type": "code",
   "execution_count": 36,
   "id": "2abca280",
   "metadata": {},
   "outputs": [
    {
     "name": "stdout",
     "output_type": "stream",
     "text": [
      "\n",
      "==============================\n",
      "Training Ridge (regression)...\n",
      "==============================\n",
      "✅ Test Accuracy (Ridge - regression->class): 0.5136\n",
      "\n",
      "==============================\n",
      "Training RandomForestRegressor (regression)...\n",
      "==============================\n"
     ]
    },
    {
     "name": "stderr",
     "output_type": "stream",
     "text": [
      "/Users/olivierf/stanford/QRT-Asset-Allocation-Performance-forecasting/QRT_venv/lib/python3.12/site-packages/sklearn/utils/extmath.py:203: RuntimeWarning: divide by zero encountered in matmul\n",
      "  ret = a @ b\n",
      "/Users/olivierf/stanford/QRT-Asset-Allocation-Performance-forecasting/QRT_venv/lib/python3.12/site-packages/sklearn/utils/extmath.py:203: RuntimeWarning: overflow encountered in matmul\n",
      "  ret = a @ b\n",
      "/Users/olivierf/stanford/QRT-Asset-Allocation-Performance-forecasting/QRT_venv/lib/python3.12/site-packages/sklearn/utils/extmath.py:203: RuntimeWarning: invalid value encountered in matmul\n",
      "  ret = a @ b\n",
      "/Users/olivierf/stanford/QRT-Asset-Allocation-Performance-forecasting/QRT_venv/lib/python3.12/site-packages/sklearn/linear_model/_base.py:280: RuntimeWarning: divide by zero encountered in matmul\n",
      "  return X @ coef_ + self.intercept_\n",
      "/Users/olivierf/stanford/QRT-Asset-Allocation-Performance-forecasting/QRT_venv/lib/python3.12/site-packages/sklearn/linear_model/_base.py:280: RuntimeWarning: overflow encountered in matmul\n",
      "  return X @ coef_ + self.intercept_\n",
      "/Users/olivierf/stanford/QRT-Asset-Allocation-Performance-forecasting/QRT_venv/lib/python3.12/site-packages/sklearn/linear_model/_base.py:280: RuntimeWarning: invalid value encountered in matmul\n",
      "  return X @ coef_ + self.intercept_\n"
     ]
    },
    {
     "name": "stdout",
     "output_type": "stream",
     "text": [
      "✅ Test Accuracy (RandomForestRegressor - regression->class): 0.5175\n",
      "\n",
      "==============================\n",
      "Training LightGBMRegressor (regression)...\n",
      "==============================\n",
      "[LightGBM] [Info] Auto-choosing col-wise multi-threading, the overhead of testing was 0.012841 seconds.\n",
      "You can set `force_col_wise=true` to remove the overhead.\n",
      "[LightGBM] [Info] Total Bins 12495\n",
      "[LightGBM] [Info] Number of data points in the train set: 144170, number of used features: 49\n",
      "[LightGBM] [Info] Start training from score 0.000013\n",
      "✅ Test Accuracy (LightGBMRegressor - regression->class): 0.5086\n",
      "\n",
      "==============================\n",
      "Training XGBoostRegressor (regression)...\n",
      "==============================\n",
      "✅ Test Accuracy (XGBoostRegressor - regression->class): 0.5135\n",
      "\n",
      "==============================\n",
      "Training CatBoostRegressor (regression)...\n",
      "==============================\n",
      "✅ Test Accuracy (CatBoostRegressor - regression->class): 0.5133\n"
     ]
    }
   ],
   "source": [
    "results_regress = {}\n",
    "for name, model in models_regress.items():\n",
    "    print(f\"\\n{'='*30}\\nTraining {name} (regression)...\\n{'='*30}\")\n",
    "    if \"Ridge\" in name:\n",
    "        model.fit(X_train_scaled, y_train_cont)\n",
    "        y_pred_cont = model.predict(X_test_scaled)\n",
    "    else:\n",
    "        model.fit(X_train.fillna(0), y_train_cont.values.ravel())\n",
    "        y_pred_cont = model.predict(X_test.fillna(0))\n",
    "    \n",
    "    # Convertir en classe binaire pour comparer accuracy\n",
    "    y_pred_class = (y_pred_cont > 0).astype(int)\n",
    "    acc = accuracy_score(y_test_bin, y_pred_class)\n",
    "    results_regress[name] = acc\n",
    "    print(f\"✅ Test Accuracy ({name} - regression->class): {acc:.4f}\")"
   ]
  },
  {
   "cell_type": "code",
   "execution_count": 40,
   "id": "165b80ee",
   "metadata": {},
   "outputs": [
    {
     "name": "stdout",
     "output_type": "stream",
     "text": [
      "\n",
      "Classification results (arrondi à 0.01):\n",
      "{'RidgeClassifier': 0.517, 'RandomForest': 0.518, 'LightGBM': 0.513, 'XGBoost': 0.517, 'CatBoost': 0.518}\n",
      "\n",
      "Regression->Classification results (arrondi à 0.01):\n",
      "{'Ridge': 0.514, 'RandomForestRegressor': 0.518, 'LightGBMRegressor': 0.509, 'XGBoostRegressor': 0.513, 'CatBoostRegressor': 0.513}\n"
     ]
    }
   ],
   "source": [
    "# Arrondir à 0.01\n",
    "results_classif_rounded = {k: round(v, 3) for k, v in results_classif.items()}\n",
    "results_regress_rounded = {k: round(v, 3) for k, v in results_regress.items()}\n",
    "\n",
    "print(\"\\nClassification results (arrondi à 0.01):\")\n",
    "print(results_classif_rounded)\n",
    "\n",
    "print(\"\\nRegression->Classification results (arrondi à 0.01):\")\n",
    "print(results_regress_rounded)\n"
   ]
  }
 ],
 "metadata": {
  "kernelspec": {
   "display_name": "QRT_venv",
   "language": "python",
   "name": "python3"
  },
  "language_info": {
   "codemirror_mode": {
    "name": "ipython",
    "version": 3
   },
   "file_extension": ".py",
   "mimetype": "text/x-python",
   "name": "python",
   "nbconvert_exporter": "python",
   "pygments_lexer": "ipython3",
   "version": "3.12.9"
  }
 },
 "nbformat": 4,
 "nbformat_minor": 5
}
