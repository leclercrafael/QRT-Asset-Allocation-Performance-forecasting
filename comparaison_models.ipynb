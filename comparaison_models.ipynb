{
 "cells": [
  {
   "cell_type": "code",
   "execution_count": 1,
   "id": "8ad76756",
   "metadata": {},
   "outputs": [],
   "source": [
    "import pandas as pd\n",
    "import numpy as np\n",
    "import matplotlib.pyplot as plt\n",
    "\n",
    "from sklearn.linear_model import RidgeClassifier\n",
    "from sklearn.ensemble import RandomForestClassifier\n",
    "import lightgbm as lgb\n",
    "from sklearn.metrics import accuracy_score\n",
    "from sklearn.preprocessing import StandardScaler"
   ]
  },
  {
   "cell_type": "code",
   "execution_count": 2,
   "id": "9918f3cf",
   "metadata": {},
   "outputs": [],
   "source": [
    "X = pd.read_csv('data/X_train.csv',index_col='ROW_ID')\n",
    "X_test_final = pd.read_csv('data/X_test.csv',index_col='ROW_ID')\n",
    "y_train = pd.read_csv('data/y_train.csv',index_col='ROW_ID')\n",
    "y_bin = (y_train > 0).astype(int) #binariser l outcome pour faire de la classification et pas regression\n",
    "sample_submission = pd.read_csv('data/sample_submission.csv',index_col='ROW_ID')"
   ]
  },
  {
   "cell_type": "code",
   "execution_count": 3,
   "id": "5f902660",
   "metadata": {},
   "outputs": [],
   "source": [
    "\n",
    "RET_features = [f'RET_{i}' for i in range(1, 20)]\n",
    "SIGNED_VOLUME_features = [f'SIGNED_VOLUME_{i}' for i in range(1, 20)]\n",
    "TURNOVER_features = ['AVG_DAILY_TURNOVER']\n",
    "\n",
    "for i in [3, 5, 10, 15, 20]:\n",
    "    X[f'AVERAGE_PERF_{i}'] = X[RET_features[:i]].mean(1)\n",
    "    X[f'ALLOCATIONS_AVERAGE_PERF_{i}'] = X.groupby('TS')[f'AVERAGE_PERF_{i}'].transform('mean')\n",
    "    X_test_final[f'AVERAGE_PERF_{i}'] = X_test_final[RET_features[:i]].mean(1)\n",
    "    X_test_final[f'ALLOCATIONS_AVERAGE_PERF_{i}'] = X_test_final.groupby('TS')[f'AVERAGE_PERF_{i}'].transform('mean')\n",
    "\n",
    "features = RET_features + SIGNED_VOLUME_features + TURNOVER_features\n",
    "features += [f'AVERAGE_PERF_{i}' for i in [3, 5, 10, 15, 20]]\n",
    "features += [f'ALLOCATIONS_AVERAGE_PERF_{i}' for i in [3, 5, 10, 15, 20]]"
   ]
  },
  {
   "cell_type": "code",
   "execution_count": 4,
   "id": "08a0707f",
   "metadata": {},
   "outputs": [],
   "source": [
    "unique_dates = np.sort(X['TS'].unique())\n",
    "n = len(unique_dates)\n",
    "train_dates = unique_dates[: int(0.6 * n)]\n",
    "tuning_dates = unique_dates[int(0.6 * n): int(0.8 * n)]\n",
    "test_dates = unique_dates[int(0.8 * n):]\n",
    "\n",
    "train_idx = X['TS'].isin(train_dates)\n",
    "tuning_idx = X['TS'].isin(tuning_dates)\n",
    "test_idx = X['TS'].isin(test_dates)\n",
    "\n",
    "X_train, y_train = X.loc[train_idx, features], y_bin.loc[train_idx]\n",
    "X_tune, y_tune = X.loc[tuning_idx, features], y_bin.loc[tuning_idx]\n",
    "X_test, y_test = X.loc[test_idx, features], y_bin.loc[test_idx]"
   ]
  },
  {
   "cell_type": "code",
   "execution_count": 5,
   "id": "321d30be",
   "metadata": {},
   "outputs": [],
   "source": [
    "scaler = StandardScaler()\n",
    "X_train_scaled = scaler.fit_transform(X_train)\n",
    "X_tune_scaled = scaler.transform(X_tune)\n",
    "X_test_scaled = scaler.transform(X_test)"
   ]
  },
  {
   "cell_type": "code",
   "execution_count": 6,
   "id": "0be3797e",
   "metadata": {},
   "outputs": [],
   "source": [
    "models = {\n",
    "    \"RidgeClassifier\": RidgeClassifier(alpha=1.0, random_state=42),\n",
    "    \"RandomForest\": RandomForestClassifier(n_estimators=200, max_depth=8, random_state=42, n_jobs=-1),\n",
    "    \"LightGBM\": lgb.LGBMClassifier(\n",
    "        n_estimators=500,\n",
    "        learning_rate=0.05,\n",
    "        num_leaves=31,\n",
    "        subsample=0.8,\n",
    "        colsample_bytree=0.8,\n",
    "        random_state=42,\n",
    "        n_jobs=-1,\n",
    "    ),\n",
    "}"
   ]
  },
  {
   "cell_type": "code",
   "execution_count": 7,
   "id": "9b64603f",
   "metadata": {},
   "outputs": [
    {
     "name": "stdout",
     "output_type": "stream",
     "text": [
      "\n",
      "==============================\n",
      "Training RidgeClassifier...\n",
      "==============================\n",
      "✅ Test Accuracy (RidgeClassifier): 0.5146\n",
      "\n",
      "==============================\n",
      "Training RandomForest...\n",
      "==============================\n"
     ]
    },
    {
     "name": "stderr",
     "output_type": "stream",
     "text": [
      "/Users/olivierf/stanford/QRT-Asset-Allocation-Performance-forecasting/QRT_venv/lib/python3.12/site-packages/sklearn/linear_model/_ridge.py:1306: DataConversionWarning: A column-vector y was passed when a 1d array was expected. Please change the shape of y to (n_samples, ), for example using ravel().\n",
      "  y = column_or_1d(y, warn=True)\n",
      "/Users/olivierf/stanford/QRT-Asset-Allocation-Performance-forecasting/QRT_venv/lib/python3.12/site-packages/sklearn/utils/extmath.py:203: RuntimeWarning: divide by zero encountered in matmul\n",
      "  ret = a @ b\n",
      "/Users/olivierf/stanford/QRT-Asset-Allocation-Performance-forecasting/QRT_venv/lib/python3.12/site-packages/sklearn/utils/extmath.py:203: RuntimeWarning: overflow encountered in matmul\n",
      "  ret = a @ b\n",
      "/Users/olivierf/stanford/QRT-Asset-Allocation-Performance-forecasting/QRT_venv/lib/python3.12/site-packages/sklearn/utils/extmath.py:203: RuntimeWarning: invalid value encountered in matmul\n",
      "  ret = a @ b\n",
      "/Users/olivierf/stanford/QRT-Asset-Allocation-Performance-forecasting/QRT_venv/lib/python3.12/site-packages/sklearn/utils/extmath.py:203: RuntimeWarning: divide by zero encountered in matmul\n",
      "  ret = a @ b\n",
      "/Users/olivierf/stanford/QRT-Asset-Allocation-Performance-forecasting/QRT_venv/lib/python3.12/site-packages/sklearn/utils/extmath.py:203: RuntimeWarning: overflow encountered in matmul\n",
      "  ret = a @ b\n",
      "/Users/olivierf/stanford/QRT-Asset-Allocation-Performance-forecasting/QRT_venv/lib/python3.12/site-packages/sklearn/utils/extmath.py:203: RuntimeWarning: invalid value encountered in matmul\n",
      "  ret = a @ b\n"
     ]
    },
    {
     "name": "stdout",
     "output_type": "stream",
     "text": [
      "✅ Test Accuracy (RandomForest): 0.5169\n",
      "\n",
      "==============================\n",
      "Training LightGBM...\n",
      "==============================\n",
      "[LightGBM] [Info] Number of positive: 54276, number of negative: 53819\n",
      "[LightGBM] [Info] Auto-choosing col-wise multi-threading, the overhead of testing was 0.004670 seconds.\n",
      "You can set `force_col_wise=true` to remove the overhead.\n",
      "[LightGBM] [Info] Total Bins 12495\n",
      "[LightGBM] [Info] Number of data points in the train set: 108095, number of used features: 49\n",
      "[LightGBM] [Info] [binary:BoostFromScore]: pavg=0.502114 -> initscore=0.008456\n",
      "[LightGBM] [Info] Start training from score 0.008456\n",
      "✅ Test Accuracy (LightGBM): 0.5119\n"
     ]
    }
   ],
   "source": [
    "results = {}\n",
    "for name, model in models.items():\n",
    "    print(f\"\\n{'='*30}\\nTraining {name}...\\n{'='*30}\")\n",
    "    \n",
    "    if name == \"RidgeClassifier\":\n",
    "        model.fit(X_train_scaled, y_train)\n",
    "        y_pred = model.predict(X_test_scaled)\n",
    "    else:\n",
    "        model.fit(X_train, y_train.values.ravel())\n",
    "        y_pred = model.predict(X_test)\n",
    "    \n",
    "    acc = accuracy_score(y_test, y_pred)\n",
    "    results[name] = acc\n",
    "    print(f\"✅ Test Accuracy ({name}): {acc:.4f}\")"
   ]
  },
  {
   "cell_type": "code",
   "execution_count": 8,
   "id": "165b80ee",
   "metadata": {},
   "outputs": [
    {
     "name": "stdout",
     "output_type": "stream",
     "text": [
      "\n",
      "--- Résumé des modèles ---\n",
      "RidgeClassifier     : 0.5146\n",
      "RandomForest        : 0.5169\n",
      "LightGBM            : 0.5119\n"
     ]
    }
   ],
   "source": [
    "print(\"\\n--- Résumé des modèles ---\")\n",
    "for name, acc in results.items():\n",
    "    print(f\"{name:20s}: {acc:.4f}\")"
   ]
  }
 ],
 "metadata": {
  "kernelspec": {
   "display_name": "QRT_venv",
   "language": "python",
   "name": "python3"
  },
  "language_info": {
   "codemirror_mode": {
    "name": "ipython",
    "version": 3
   },
   "file_extension": ".py",
   "mimetype": "text/x-python",
   "name": "python",
   "nbconvert_exporter": "python",
   "pygments_lexer": "ipython3",
   "version": "3.12.9"
  }
 },
 "nbformat": 4,
 "nbformat_minor": 5
}
